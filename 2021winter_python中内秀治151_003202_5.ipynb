{
  "nbformat": 4,
  "nbformat_minor": 0,
  "metadata": {
    "colab": {
      "name": "2021winter-python中内秀治151-003202-5",
      "provenance": [],
      "collapsed_sections": [
        "WX4sRVO63me5",
        "FnSBdgK-Bwtz"
      ],
      "toc_visible": true,
      "include_colab_link": true
    },
    "kernelspec": {
      "name": "python3",
      "display_name": "Python 3"
    }
  },
  "cells": [
    {
      "cell_type": "markdown",
      "metadata": {
        "id": "view-in-github",
        "colab_type": "text"
      },
      "source": [
        "<a href=\"https://colab.research.google.com/github/ShuMay-Sky/PyTra/blob/main/2021winter_python%E4%B8%AD%E5%86%85%E7%A7%80%E6%B2%BB151_003202_5.ipynb\" target=\"_parent\"><img src=\"https://colab.research.google.com/assets/colab-badge.svg\" alt=\"Open In Colab\"/></a>"
      ]
    },
    {
      "cell_type": "markdown",
      "metadata": {
        "id": "qaf6jmoX5AeH"
      },
      "source": [
        "# 1 Python 入門"
      ]
    },
    {
      "cell_type": "markdown",
      "metadata": {
        "id": "XZEE_PaBwYKX"
      },
      "source": [
        "## 1.1 はじめに"
      ]
    },
    {
      "cell_type": "markdown",
      "metadata": {
        "id": "jRQu-xaPwnPu"
      },
      "source": [
        "*   これは、Google Colaboratory で作成された Python の教材かつノートブックです。\n",
        "  1. 左上の「ファイル」を開いて、「コピーを保存」をしてください。\n",
        "  2. 自分のGoogleドライブに、そのファイルが保存されます。それを利用して学習・演習を進めて下さい。\n",
        "*   実行する前に、次の準備をして下さい。\n",
        "  1. 右上の歯車アイコンを開く\n",
        "  2. 出てきたメニューの左「エディタ」タブを開く\n",
        "  3. 「行番号を表示」をチェックする。その他適宜、使いやすいように自分の好みでチェックする。その後、右下の「保存」を選んでメニューを閉じる。\n",
        "\n",
        "\n",
        "\n"
      ]
    },
    {
      "cell_type": "markdown",
      "metadata": {
        "id": "PDSnj88xwhWe"
      },
      "source": [
        "## 1.2 資料"
      ]
    },
    {
      "cell_type": "markdown",
      "metadata": {
        "id": "DpQZDmpM49bL"
      },
      "source": [
        "* 他に参考になる教材\n",
        "\n",
        "  * 情報処理学会 IPSJMOOC 第3章\n",
        "    https://sites.google.com/a.ipsj.or.jp/mooc/list\n",
        "     * 基本的なプログラミング\n",
        "     * アルゴリズム\n",
        "     * モデル化とシミュレーション    \n",
        " * 東京大学理学部情報科学科 Python入門\n",
        "    https://utokyo-ipp.github.io/index.html\n",
        " * 京都大学 プログラミング演習 Python 2019\n",
        "   https://repository.kulib.kyoto-u.ac.jp/dspace/handle/2433/245698\n",
        " * Python入門（明治大学 水谷正大先生）\n",
        "   https://www.isc.meiji.ac.jp/~mizutani/python/index.html\n",
        " * Chainer （Preferred Networks） 第2章の「Python 入門」\n",
        "   https://tutorials.chainer.org/ja/tutorial.html\n",
        " * Python入門（javadrive）\n",
        "   https://www.javadrive.jp/python/\n",
        " * Python 公式チュートリアル\n",
        "   https://docs.python.org/ja/3/tutorial/index.html\n",
        "  \n"
      ]
    },
    {
      "cell_type": "markdown",
      "metadata": {
        "id": "6UQOttwouS5J"
      },
      "source": [
        "# 2 文字列を入力させて表示"
      ]
    },
    {
      "cell_type": "markdown",
      "metadata": {
        "id": "zWz5XlOoQNmB"
      },
      "source": [
        "キーボードから入力を求めて、その言葉を使って表示を行なうだけのプログラムである。"
      ]
    },
    {
      "cell_type": "code",
      "metadata": {
        "id": "bANAO671sUOc",
        "colab": {
          "base_uri": "https://localhost:8080/"
        },
        "outputId": "183da260-e02d-439d-9e97-0cf604bf8a6a"
      },
      "source": [
        "yourname = input('Your name? ')\n",
        "print('Oh! Your name is ', yourname)"
      ],
      "execution_count": null,
      "outputs": [
        {
          "output_type": "stream",
          "name": "stdout",
          "text": [
            "Your name? a\n",
            "Oh! Your name is  a\n"
          ]
        }
      ]
    },
    {
      "cell_type": "markdown",
      "metadata": {
        "id": "MHgPHaDWs3Jg"
      },
      "source": [
        "上のプログラムの解説\n",
        "+ 1行目：変数 yourname に、キーボードから入力された文字列を代入している。（数学では「変数」は、英文字1文字で、数や数値が入るが、プログラムの変数は、英文字で始まり英文字や数字が続く語であればよく、また、その値に文字列を想定することができる。\n",
        "+ 2行目：一定の書式を利用して、文字列を画面に表示する。\n",
        "\n",
        "\n",
        "\n"
      ]
    },
    {
      "cell_type": "code",
      "metadata": {
        "id": "bOaXpvZRida6",
        "colab": {
          "base_uri": "https://localhost:8080/"
        },
        "outputId": "727d8658-51a3-4881-f850-3d55c2e2e99b"
      },
      "source": [
        "yourname = input('君の名は？')\n",
        "print('君の名は' + yourname +'なのか')"
      ],
      "execution_count": null,
      "outputs": [
        {
          "output_type": "stream",
          "name": "stdout",
          "text": [
            "君の名は？ あおば\n",
            "君の名前はあおばというのですね \n"
          ]
        }
      ]
    },
    {
      "cell_type": "markdown",
      "metadata": {
        "id": "eJrCLKk7ilbS"
      },
      "source": [
        "*  print 命令の中で、複数の文字列を並べるとき\n",
        " * カンマで区切ると、 空白がつく（最初のプログラム）\n",
        " * プラスでつなげると、文字列の結合をしたあとの「一つの文字列」になるので、空白がつかない。（2番めのプログラム）\n",
        "\n"
      ]
    },
    {
      "cell_type": "markdown",
      "metadata": {
        "id": "8P88uIOzvNAo"
      },
      "source": [
        "# 3 繰返しとブロックの概念"
      ]
    },
    {
      "cell_type": "markdown",
      "metadata": {
        "id": "5QCQrvNuyCq3"
      },
      "source": [
        "## 3.1 ブロック"
      ]
    },
    {
      "cell_type": "markdown",
      "metadata": {
        "id": "JLAe4IAjyQoU"
      },
      "source": [
        "2行めの左側の空白（インデントという）を必ず入れること。同じ幅のインデントが続く行は、ブロックと見なされる。"
      ]
    },
    {
      "cell_type": "code",
      "metadata": {
        "id": "yFzFAM61vnGv",
        "colab": {
          "base_uri": "https://localhost:8080/"
        },
        "outputId": "784f3742-74a2-49b5-e46d-e6dbd0c57a1b"
      },
      "source": [
        "for i in range(10):\n",
        "  print('i=' , i)"
      ],
      "execution_count": null,
      "outputs": [
        {
          "output_type": "stream",
          "name": "stdout",
          "text": [
            "i= 0\n",
            "i= 1\n",
            "i= 2\n",
            "i= 3\n",
            "i= 4\n",
            "i= 5\n",
            "i= 6\n",
            "i= 7\n",
            "i= 8\n",
            "i= 9\n"
          ]
        }
      ]
    },
    {
      "cell_type": "markdown",
      "metadata": {
        "id": "C0i5iq6twxMd"
      },
      "source": [
        "上のプログラムの解説\n",
        "* 1行目：for のあとに変数名を書くと、その変数にさまざまな値を代入して、直後のブロック全体を実行する。 range(10) は、 0 から 9 までの10個の数を表している。\n",
        "* 2行目：左側の字下げは、そこがブロックであることを示す。"
      ]
    },
    {
      "cell_type": "code",
      "metadata": {
        "id": "EBJn-TTmww3k",
        "colab": {
          "base_uri": "https://localhost:8080/"
        },
        "outputId": "d61c695e-f712-4b07-d135-fdacf15137da"
      },
      "source": [
        "for i in range(6,11):\n",
        "  print('i=', i)"
      ],
      "execution_count": null,
      "outputs": [
        {
          "output_type": "stream",
          "name": "stdout",
          "text": [
            "i= 6\n",
            "i= 7\n",
            "i= 8\n",
            "i= 9\n",
            "i= 10\n"
          ]
        }
      ]
    },
    {
      "cell_type": "markdown",
      "metadata": {
        "id": "B5W138uDxKro"
      },
      "source": [
        "上のプログラムの解説\n",
        "* 1行目：range(1,11)は、1 から 10 までの10個の数を表している。"
      ]
    },
    {
      "cell_type": "code",
      "metadata": {
        "id": "GUxsAj2Eja-L",
        "colab": {
          "base_uri": "https://localhost:8080/"
        },
        "outputId": "52092250-19e9-47cc-bd48-9d583c580236"
      },
      "source": [
        "for i in range(10, 0, -5):\n",
        "  print('i=', i)"
      ],
      "execution_count": null,
      "outputs": [
        {
          "output_type": "stream",
          "name": "stdout",
          "text": [
            "i= 10\n",
            "i= 5\n"
          ]
        }
      ]
    },
    {
      "cell_type": "markdown",
      "metadata": {
        "id": "f13H-Lvijn9b"
      },
      "source": [
        "* 1行目： range(10, 0, -1) は、10から1までの10個の数（ただし、1ずつ減少）を表している。\n"
      ]
    },
    {
      "cell_type": "markdown",
      "metadata": {
        "id": "ZNupVA-UxvDT"
      },
      "source": [
        "## 3.2 入力した言葉を繰り返して表示"
      ]
    },
    {
      "cell_type": "markdown",
      "metadata": {
        "id": "NVNG2pgPybX1"
      },
      "source": [
        "次は、よい例"
      ]
    },
    {
      "cell_type": "code",
      "metadata": {
        "id": "Lx-dylqXxg2n",
        "colab": {
          "base_uri": "https://localhost:8080/"
        },
        "outputId": "47e95b98-6aec-487d-dd26-b16b6ad98c7c"
      },
      "source": [
        "theword = input('favorite word?')\n",
        "for i in range (10, 0, -5):\n",
        "  print('Favorite word is ', theword, '.')"
      ],
      "execution_count": null,
      "outputs": [
        {
          "output_type": "stream",
          "name": "stdout",
          "text": [
            "favorite word?COOL\n",
            "Favorite word is  COOL .\n",
            "Favorite word is  COOL .\n"
          ]
        }
      ]
    },
    {
      "cell_type": "markdown",
      "metadata": {
        "id": "oTYuKW60yfkR"
      },
      "source": [
        "次はよくない例"
      ]
    },
    {
      "cell_type": "code",
      "metadata": {
        "id": "joNKVf9Iyhp4",
        "colab": {
          "base_uri": "https://localhost:8080/"
        },
        "outputId": "d61f29c1-865f-42d3-a426-db22ae32870b"
      },
      "source": [
        "theword = input('favorite word?')\n",
        "for i in range (5):\n",
        "  print('Favorite word is', theword, '.')"
      ],
      "execution_count": null,
      "outputs": [
        {
          "output_type": "stream",
          "name": "stdout",
          "text": [
            "favorite word?123\n",
            "Favorite word is 123 .\n",
            "Favorite word is 123 .\n",
            "Favorite word is 123 .\n",
            "Favorite word is 123 .\n",
            "Favorite word is 123 .\n"
          ]
        }
      ]
    },
    {
      "cell_type": "markdown",
      "metadata": {
        "id": "mDXBS_7tyinr"
      },
      "source": [
        "for は繰り返しの部分を探しているが、見つからないためエラーになる。"
      ]
    },
    {
      "cell_type": "markdown",
      "metadata": {
        "id": "45Xa9l3vx30o"
      },
      "source": [
        "## 3.3 繰返しながら途中を表示"
      ]
    },
    {
      "cell_type": "code",
      "metadata": {
        "id": "wxGuOGfsy9ZB",
        "colab": {
          "base_uri": "https://localhost:8080/"
        },
        "outputId": "302392d5-2c96-403e-c814-0646c3860107"
      },
      "source": [
        "s = 0\n",
        "for i in range(1, 11):\n",
        "  s = s + i\n",
        "  print('s=' , s)"
      ],
      "execution_count": null,
      "outputs": [
        {
          "output_type": "stream",
          "name": "stdout",
          "text": [
            "s= 1\n",
            "s= 3\n",
            "s= 6\n",
            "s= 10\n",
            "s= 15\n",
            "s= 21\n",
            "s= 28\n",
            "s= 36\n",
            "s= 45\n",
            "s= 55\n"
          ]
        }
      ]
    },
    {
      "cell_type": "markdown",
      "metadata": {
        "id": "KOE2jKaXy3eW"
      },
      "source": [
        "上のプログラムの解説\n",
        "+ 3行目と4行目は、左側のインデントが同じ（左側の空白の幅が同じ）なので、カタマリとして考える。2行目の for で繰返し実行される命令が、3行目と4行目であり、ともに $ 100-2+1=99 $ 回実行される。"
      ]
    },
    {
      "cell_type": "code",
      "metadata": {
        "id": "VSEGzbEo0CN7",
        "colab": {
          "base_uri": "https://localhost:8080/"
        },
        "outputId": "802bde36-257e-4339-950c-de852c333e9f"
      },
      "source": [
        "s = 0\n",
        "for i in range(2, 101):\n",
        "  s = s + i\n",
        "print('s=', s)"
      ],
      "execution_count": null,
      "outputs": [
        {
          "output_type": "stream",
          "name": "stdout",
          "text": [
            "s= 5049\n"
          ]
        }
      ]
    },
    {
      "cell_type": "markdown",
      "metadata": {
        "id": "LvxHy7Zcz8uH"
      },
      "source": [
        "上のプログラムの解説\n",
        "+ 3行目と4行目は、左側のインデントが異なる（左側の空白の幅が異なる）なので、別のカタマリとして考える。2行目の for で繰返し実行される命令が、3行目のみである。すなわち、3行目は99回実行されるが、4行目は1回しか実行されない。"
      ]
    },
    {
      "cell_type": "markdown",
      "metadata": {
        "id": "aB1RJ0590XXM"
      },
      "source": [
        "## 3.4 数を入力して、その回数計算"
      ]
    },
    {
      "cell_type": "code",
      "metadata": {
        "id": "egB5WMVB0aPL",
        "colab": {
          "base_uri": "https://localhost:8080/"
        },
        "outputId": "67c8c2fb-5dfb-48a2-c0ac-8c2b6a1a65e7"
      },
      "source": [
        "s = 0\n",
        "n = int(input('n? '))\n",
        "for i in range(n+1):\n",
        "  s = s + i\n",
        "  print('s=', s)"
      ],
      "execution_count": null,
      "outputs": [
        {
          "output_type": "stream",
          "name": "stdout",
          "text": [
            "n? 5\n",
            "s= 0\n",
            "s= 1\n",
            "s= 3\n",
            "s= 6\n",
            "s= 10\n",
            "s= 15\n"
          ]
        }
      ]
    },
    {
      "cell_type": "markdown",
      "metadata": {
        "id": "wVFIfX2M0u46"
      },
      "source": [
        "上のプログラムの解説\n",
        "* 2行目：input は文字列を入力結果としている。これを数に変換する必要がある。関数 int は、入力された数字列を整数に変換する。\n",
        "* 4行目：s + i の値を（新しい） s に代入する。"
      ]
    },
    {
      "cell_type": "code",
      "metadata": {
        "id": "pNC1Z9TDnv8t"
      },
      "source": [
        "s = 0\n",
        "n = int(input('n? '))\n",
        "for i in range(n+1):\n",
        "  s += i\n",
        "  print('s=', s)"
      ],
      "execution_count": null,
      "outputs": []
    },
    {
      "cell_type": "markdown",
      "metadata": {
        "id": "JqfyS8lynzqq"
      },
      "source": [
        "* 4行目は、「sの値を i 増加させる」という命令である。「 s = s + i 」と計算結果は同じ。"
      ]
    },
    {
      "cell_type": "markdown",
      "metadata": {
        "id": "igM4WGaR008D"
      },
      "source": [
        "## 3.5 入力に応じて動作を変える"
      ]
    },
    {
      "cell_type": "code",
      "metadata": {
        "id": "GNPrSPYl02dZ",
        "colab": {
          "base_uri": "https://localhost:8080/"
        },
        "outputId": "d607e349-3275-45c1-d0cb-24937ffa6813"
      },
      "source": [
        "a = float(input('a? '))\n",
        "b = float(input('b? '))\n",
        "if b == 0 :\n",
        "  print('Cannot divide by 0')\n",
        "else:\n",
        "  r = float(a) / float(b)\n",
        "  print( float(a), '/', float(b), '=', float(r))"
      ],
      "execution_count": null,
      "outputs": [
        {
          "output_type": "stream",
          "name": "stdout",
          "text": [
            "a? 123456\n",
            "b? 1.2345678912346679889611000000000000000111\n",
            "123456.0 / 1.234567891234668 = 99999.36080998671\n"
          ]
        }
      ]
    },
    {
      "cell_type": "markdown",
      "metadata": {
        "id": "9Vmo0qyK1gvh"
      },
      "source": [
        "上のプログラムの解説\n",
        "* 1行目、2行目：関数 float は、入力された数字列を浮動小数に変換する。整数でない値を用いるときは、この  float を利用する。\n",
        "* 3行目：  if は、条件が成立したときに直後のブロックを実行する。\n",
        "* 3行目：  b == 0 は、「$b$が$0$に等しいかどうか」を判断する比較演算子である。ここを、 b = 0 と書いては いけない。\n",
        "* 5行目：  else は、 if の条件が成立しなかったときに直後のブロックを実行する。"
      ]
    },
    {
      "cell_type": "markdown",
      "metadata": {
        "id": "dTWCIG16_JCY"
      },
      "source": [
        "# 4 繰り返し"
      ]
    },
    {
      "cell_type": "markdown",
      "metadata": {
        "id": "48Fdv9TL8PjF"
      },
      "source": [
        "繰り返しは、プログラムの動作の、基本構造の一つである。コンピュータは、繰り返しを素早く行うことで、様々な計算を行っている。"
      ]
    },
    {
      "cell_type": "code",
      "metadata": {
        "id": "LAaJqlAR8u4U",
        "colab": {
          "base_uri": "https://localhost:8080/"
        },
        "outputId": "e8e3b1c1-2c4f-4ecc-c073-4ff25067c5b1"
      },
      "source": [
        "out = ''\n",
        "out += 'a'\n",
        "out += 'a'\n",
        "out += 'a'\n",
        "out += 'a'\n",
        "out += 'a'\n",
        "print(out)"
      ],
      "execution_count": null,
      "outputs": [
        {
          "output_type": "stream",
          "name": "stdout",
          "text": [
            "aaaaa\n"
          ]
        }
      ]
    },
    {
      "cell_type": "markdown",
      "metadata": {
        "id": "0PRARGTf8__2"
      },
      "source": [
        "このプログラムは、文字列を最初は空列（長さゼロ）にしておいて、それに、文字 a を追加するという作業を5回行って、最後に out を表示する。これを、繰り返しを使って記述すると、次のようになる。"
      ]
    },
    {
      "cell_type": "code",
      "metadata": {
        "id": "wLp51ASx9P1B",
        "colab": {
          "base_uri": "https://localhost:8080/"
        },
        "outputId": "a9b0f387-5053-4759-a30b-aa4a31e56cdf"
      },
      "source": [
        "out=''\n",
        "for i in range(5) :\n",
        "  out += 'a'\n",
        "print(out)"
      ],
      "execution_count": null,
      "outputs": [
        {
          "output_type": "stream",
          "name": "stdout",
          "text": [
            "aaaaa\n"
          ]
        }
      ]
    },
    {
      "cell_type": "markdown",
      "metadata": {
        "id": "50Qy8Zdi9vXV"
      },
      "source": [
        "この作業を5回繰り返すと、正方形状に文字を並べることができる。"
      ]
    },
    {
      "cell_type": "code",
      "metadata": {
        "id": "0CZcb7xG93lV",
        "colab": {
          "base_uri": "https://localhost:8080/"
        },
        "outputId": "3ae9ce26-6b72-4b61-fbbb-bbbcc9bc46bd"
      },
      "source": [
        "for j in range(5) :\n",
        "  out=''\n",
        "  for i in range(5) :\n",
        "    out += 'a'\n",
        "  print(out)"
      ],
      "execution_count": null,
      "outputs": [
        {
          "output_type": "stream",
          "name": "stdout",
          "text": [
            "aaaaa\n",
            "aaaaa\n",
            "aaaaa\n",
            "aaaaa\n",
            "aaaaa\n"
          ]
        }
      ]
    },
    {
      "cell_type": "markdown",
      "metadata": {
        "id": "8FIYm0OQ-XDh"
      },
      "source": [
        "## 実習"
      ]
    },
    {
      "cell_type": "markdown",
      "metadata": {
        "id": "A4dnMykd-6x4"
      },
      "source": [
        "(1) 次のプログラムはどのように動作するか。よく考えた上で、実行してみて、そのとおりになったかどうかを確認せよ。"
      ]
    },
    {
      "cell_type": "code",
      "metadata": {
        "id": "_QDpeiNC-MkD",
        "colab": {
          "base_uri": "https://localhost:8080/",
          "height": 135
        },
        "outputId": "cbd2a320-5523-4f35-d8e2-4ba57225d49c"
      },
      "source": [
        "for j in range(10) :\n",
        "  out=''\n",
        "  for i in range( j ) :\n",
        "    out += 'a'\n",
        "  print(out)"
      ],
      "execution_count": null,
      "outputs": [
        {
          "output_type": "error",
          "ename": "IndentationError",
          "evalue": "ignored",
          "traceback": [
            "\u001b[0;36m  File \u001b[0;32m\"<ipython-input-86-8483af67214c>\"\u001b[0;36m, line \u001b[0;32m4\u001b[0m\n\u001b[0;31m    for i in range( j ) :\u001b[0m\n\u001b[0m                         ^\u001b[0m\n\u001b[0;31mIndentationError\u001b[0m\u001b[0;31m:\u001b[0m unindent does not match any outer indentation level\n"
          ]
        }
      ]
    },
    {
      "cell_type": "markdown",
      "metadata": {
        "id": "NUJr_VYZ_CYn"
      },
      "source": [
        "(2) 次のプログラムはどのように動作するか。よく考えた上で、実行してみて、そのとおりになったかどうかを確認せよ。"
      ]
    },
    {
      "cell_type": "code",
      "metadata": {
        "id": "59opFF-A_D1T",
        "colab": {
          "base_uri": "https://localhost:8080/"
        },
        "outputId": "578d9d9a-6c33-415e-ce5d-2ce3e2ceb480"
      },
      "source": [
        "for j in range(10) :\n",
        "  out=''\n",
        "  for i in range( j*j ) :\n",
        "    out += 'a'\n",
        "  print(out)"
      ],
      "execution_count": null,
      "outputs": [
        {
          "output_type": "stream",
          "name": "stdout",
          "text": [
            "\n",
            "a\n",
            "aaaa\n",
            "aaaaaaaaa\n",
            "aaaaaaaaaaaaaaaa\n",
            "aaaaaaaaaaaaaaaaaaaaaaaaa\n",
            "aaaaaaaaaaaaaaaaaaaaaaaaaaaaaaaaaaaa\n",
            "aaaaaaaaaaaaaaaaaaaaaaaaaaaaaaaaaaaaaaaaaaaaaaaaa\n",
            "aaaaaaaaaaaaaaaaaaaaaaaaaaaaaaaaaaaaaaaaaaaaaaaaaaaaaaaaaaaaaaaa\n",
            "aaaaaaaaaaaaaaaaaaaaaaaaaaaaaaaaaaaaaaaaaaaaaaaaaaaaaaaaaaaaaaaaaaaaaaaaaaaaaaaaa\n"
          ]
        }
      ]
    },
    {
      "cell_type": "markdown",
      "source": [
        "# 新しいセクション"
      ],
      "metadata": {
        "id": "G7Gi_4xGYVTa"
      }
    },
    {
      "cell_type": "markdown",
      "metadata": {
        "id": "BihQi4Zs_Lkd"
      },
      "source": [
        "(3) 次のプログラムを実行すると何が表示されるか。実行せずに考えて、その後、実行して確認せよ。\n"
      ]
    },
    {
      "cell_type": "code",
      "metadata": {
        "id": "JGcKBeOf_O5v",
        "colab": {
          "base_uri": "https://localhost:8080/"
        },
        "outputId": "69c319d1-5509-49fa-b87d-5b96f40ef8ab"
      },
      "source": [
        "for i in range(1,10):\n",
        "  out =''\n",
        "  for j in range(1,10):\n",
        "    v = i*j\n",
        "    out += str(v)+' '\n",
        "  print(out)"
      ],
      "execution_count": null,
      "outputs": [
        {
          "output_type": "stream",
          "name": "stdout",
          "text": [
            "1 2 3 4 5 6 7 8 9 \n",
            "2 4 6 8 10 12 14 16 18 \n",
            "3 6 9 12 15 18 21 24 27 \n",
            "4 8 12 16 20 24 28 32 36 \n",
            "5 10 15 20 25 30 35 40 45 \n",
            "6 12 18 24 30 36 42 48 54 \n",
            "7 14 21 28 35 42 49 56 63 \n",
            "8 16 24 32 40 48 56 64 72 \n",
            "9 18 27 36 45 54 63 72 81 \n"
          ]
        }
      ]
    },
    {
      "cell_type": "markdown",
      "metadata": {
        "id": "nQQMiOeO_a8T"
      },
      "source": [
        "(4) 次のプログラムは、先のプログラムの改良型である。どのように改良されたか。実行せずに考えて、その後、実行して確認せよ。"
      ]
    },
    {
      "cell_type": "code",
      "metadata": {
        "id": "jHDuPRzN_mIe",
        "colab": {
          "base_uri": "https://localhost:8080/"
        },
        "outputId": "f4c09d52-4188-4234-d724-afdb2bff5626"
      },
      "source": [
        "for i in range(1,21):\n",
        "  out = ''\n",
        "  for j in range(1,21):\n",
        "    v = i*j\n",
        "    if v < 10:\n",
        "      out += '#'\n",
        "    if v < 100:\n",
        "      out += '#'\n",
        "    out += str(v)+' '\n",
        "  print(out)"
      ],
      "execution_count": null,
      "outputs": [
        {
          "output_type": "stream",
          "name": "stdout",
          "text": [
            "##1 ##2 ##3 ##4 ##5 ##6 ##7 ##8 ##9 #10 #11 #12 #13 #14 #15 #16 #17 #18 #19 #20 \n",
            "##2 ##4 ##6 ##8 #10 #12 #14 #16 #18 #20 #22 #24 #26 #28 #30 #32 #34 #36 #38 #40 \n",
            "##3 ##6 ##9 #12 #15 #18 #21 #24 #27 #30 #33 #36 #39 #42 #45 #48 #51 #54 #57 #60 \n",
            "##4 ##8 #12 #16 #20 #24 #28 #32 #36 #40 #44 #48 #52 #56 #60 #64 #68 #72 #76 #80 \n",
            "##5 #10 #15 #20 #25 #30 #35 #40 #45 #50 #55 #60 #65 #70 #75 #80 #85 #90 #95 100 \n",
            "##6 #12 #18 #24 #30 #36 #42 #48 #54 #60 #66 #72 #78 #84 #90 #96 102 108 114 120 \n",
            "##7 #14 #21 #28 #35 #42 #49 #56 #63 #70 #77 #84 #91 #98 105 112 119 126 133 140 \n",
            "##8 #16 #24 #32 #40 #48 #56 #64 #72 #80 #88 #96 104 112 120 128 136 144 152 160 \n",
            "##9 #18 #27 #36 #45 #54 #63 #72 #81 #90 #99 108 117 126 135 144 153 162 171 180 \n",
            "#10 #20 #30 #40 #50 #60 #70 #80 #90 100 110 120 130 140 150 160 170 180 190 200 \n",
            "#11 #22 #33 #44 #55 #66 #77 #88 #99 110 121 132 143 154 165 176 187 198 209 220 \n",
            "#12 #24 #36 #48 #60 #72 #84 #96 108 120 132 144 156 168 180 192 204 216 228 240 \n",
            "#13 #26 #39 #52 #65 #78 #91 104 117 130 143 156 169 182 195 208 221 234 247 260 \n",
            "#14 #28 #42 #56 #70 #84 #98 112 126 140 154 168 182 196 210 224 238 252 266 280 \n",
            "#15 #30 #45 #60 #75 #90 105 120 135 150 165 180 195 210 225 240 255 270 285 300 \n",
            "#16 #32 #48 #64 #80 #96 112 128 144 160 176 192 208 224 240 256 272 288 304 320 \n",
            "#17 #34 #51 #68 #85 102 119 136 153 170 187 204 221 238 255 272 289 306 323 340 \n",
            "#18 #36 #54 #72 #90 108 126 144 162 180 198 216 234 252 270 288 306 324 342 360 \n",
            "#19 #38 #57 #76 #95 114 133 152 171 190 209 228 247 266 285 304 323 342 361 380 \n",
            "#20 #40 #60 #80 100 120 140 160 180 200 220 240 260 280 300 320 340 360 380 400 \n"
          ]
        }
      ]
    },
    {
      "cell_type": "markdown",
      "metadata": {
        "id": "51QVivpp17Yf"
      },
      "source": [
        "# 5 素数判定プログラム"
      ]
    },
    {
      "cell_type": "markdown",
      "metadata": {
        "id": "5u_S7IST2Afr"
      },
      "source": [
        "ある自然数 $p$ が素数であるとは、$p$を割り切る自然数は $1$と$p$のみのときである。そこで、$p$を入力させ、$2, 3, ..., $ と $ \\sqrt{p} $までのそれぞれの数で割算を行ない、余りが0になるかどうかを調べれば、$p$が素数かどうか、判定できる。"
      ]
    },
    {
      "cell_type": "markdown",
      "metadata": {
        "id": "DGnPDDXO2Ug8"
      },
      "source": [
        "## 5.1 単純な判定方法の利用"
      ]
    },
    {
      "cell_type": "code",
      "metadata": {
        "id": "x3OajEMR100l",
        "colab": {
          "base_uri": "https://localhost:8080/"
        },
        "outputId": "74f1f42b-a2e1-46a2-fd6e-5c7286745d96"
      },
      "source": [
        "import math\n",
        "\n",
        "flag = 1\n",
        "p = float(input('p? '))\n",
        "limit = math.sqrt(p)\n",
        "for i in range(2, int(limit)+1 ):\n",
        "    r = p % i\n",
        "    if r == 0 :\n",
        "       flag = 0\n",
        "print('flag=', flag)"
      ],
      "execution_count": null,
      "outputs": [
        {
          "output_type": "stream",
          "name": "stdout",
          "text": [
            "p? 35464612397\n",
            "flag= 1\n"
          ]
        }
      ]
    },
    {
      "cell_type": "markdown",
      "metadata": {
        "id": "J4r5iEBl2rEM"
      },
      "source": [
        "上のプログラムの解説\n",
        "* 1行目：数学計算ライブラリを呼び出す。\n",
        "* 2行目：空行。プログラムを見やすくするために、このような行を入れてもよい。（いれなくてもよい。）\n",
        "* 3行目：変数 flag は、プログラム終了時には、素数かどうかの判断結果となる。最初は 1 を入れておく。\n",
        "* 4行目：math.sqrt(p) は $p$の平方根, $\\sqrt{p}$ で繰返し条件を定めた。\n",
        "* 7行目：演算子 % は、余りの計算を行なう。\n",
        "* 9行目：インデントが他と違う。ここは、8行目の条件が成立したときに限って実行される。"
      ]
    },
    {
      "cell_type": "markdown",
      "metadata": {
        "id": "w2N-48My3Hgy"
      },
      "source": [
        "## 5.2 判定方法を変える"
      ]
    },
    {
      "cell_type": "markdown",
      "metadata": {
        "id": "Oln2XAPp3LAn"
      },
      "source": [
        "この計算の繰返し条件を、平方根を利用しないで $ i^2 \\le p $ とすると、以下の通りになる。"
      ]
    },
    {
      "cell_type": "code",
      "metadata": {
        "id": "PlOLxV1b2zcE",
        "colab": {
          "base_uri": "https://localhost:8080/"
        },
        "outputId": "131c7665-82cb-45a7-b2ee-8badebe157db"
      },
      "source": [
        "i = 2\n",
        "flag = 1\n",
        "p = int(input('p?'))\n",
        "while i*i <= p :\n",
        "    r = p % i\n",
        "    if  r == 0 :\n",
        "       flag = 0\n",
        "    i += 1\n",
        "print('flag=', flag)"
      ],
      "execution_count": null,
      "outputs": [
        {
          "output_type": "stream",
          "name": "stdout",
          "text": [
            "p?35464612397\n",
            "flag= 1\n"
          ]
        }
      ]
    },
    {
      "cell_type": "markdown",
      "metadata": {
        "id": "E_G969sn3hOg"
      },
      "source": [
        "上のプログラムの解説\n",
        "* 4行目：while は、続く条件が成り立つ間、直後のブロックを繰返し実行し続ける。"
      ]
    },
    {
      "cell_type": "markdown",
      "metadata": {
        "id": "WX4sRVO63me5"
      },
      "source": [
        "### 問題\n",
        "上記2つの判定方法の違いについて考察せよ。"
      ]
    },
    {
      "cell_type": "markdown",
      "metadata": {
        "id": "vX1sFntv6FvH"
      },
      "source": [
        "# 6 ユークリッドの互除法"
      ]
    },
    {
      "cell_type": "markdown",
      "metadata": {
        "id": "KLMsgAAO6Im_"
      },
      "source": [
        "ユークリッドの互除法とは、世界で最古のアルゴリズムとされている方法で、ユークリッド原論（紀元前300年頃）に書かれている。基本的な考え方は、以下の通りである。\n",
        "* $ x > y $ とする。また、 $ d $ が、 $ x $ と $ y $ の公約数であるとする。\n",
        "* 横の長さが $ x $ 、縦の長さが $ y $ の長方形は、一辺の長さが $ d $ の正方形で埋め尽くされる。\n",
        "* 元の長方形から、一辺の長さが $ y $ の正方形を切り取ると、横の長さが $ x-y $ 、縦の長さが $ y $ の長方形となるが、これも、一辺の長さが $ d $ の正方形で埋め尽くされる。\n",
        "* 一辺の長さが $ y $ の正方形を切り取れなくなったら、縦横の考え方を変えて、同じことをしていく。\n",
        "* 最後に正方形だけが残る。それも、一辺の長さが $ d $ の正方形で埋め尽くされる正方形となる。この辺の長さは、 $ x $ と $ y $ の公約数のうち、最大のものである。"
      ]
    },
    {
      "cell_type": "markdown",
      "metadata": {
        "id": "j6HKee2w6XeC"
      },
      "source": [
        "すなわち、与えられた2数に対し、大きい方から小さい方を引くという作業をずっと続けていく。途中で同じ値になれば、それが最大公約数である。ところで、「小さくなるまで何回も引き算をする」というのは、\n",
        "「自然数の割算を行なって、余りを求める」ということと同じである。\n"
      ]
    },
    {
      "cell_type": "markdown",
      "metadata": {
        "id": "ipTWawSE6k8A"
      },
      "source": [
        "キーボードから入力を求めることにして、Pythonで記述すると、次のプログラムとなる。\n"
      ]
    },
    {
      "cell_type": "code",
      "metadata": {
        "id": "hRAoYkyb6Tly"
      },
      "source": [
        "x = int(input(\"x?\"))\n",
        "y = int(input(\"y?\"))\n",
        "while x != y and x>0 and y>0 :\n",
        "    if x > y :\n",
        "        x = x % y\n",
        "        d = y\n",
        "    else :\n",
        "        y = y % x\n",
        "        d = x\n",
        "print('answer=', d)"
      ],
      "execution_count": null,
      "outputs": []
    },
    {
      "cell_type": "markdown",
      "metadata": {
        "id": "ocHSitjK67_F"
      },
      "source": [
        "上のプログラムの解説\n",
        "* 3行目：$ x ≠ y $ のときに動作する。なお、うっかり、負の数を入力されたときに、暴走しないように、x, y が共に正である場合のみ動作するようにした。なお、条件を「かつ」で結ぶときは、 and を中置する。"
      ]
    },
    {
      "cell_type": "markdown",
      "metadata": {
        "id": "Pf6VxdqQbcep"
      },
      "source": [
        "問題　最初から、 x と y に同じ値を入れたときに、正しく動作させるには、このプログラムをどのように改造すればよいか。"
      ]
    },
    {
      "cell_type": "markdown",
      "metadata": {
        "id": "DLwzn2cF0Ldr"
      },
      "source": [
        "# 7 **リスト**"
      ]
    },
    {
      "cell_type": "markdown",
      "metadata": {
        "id": "xpzos-Fx0Ld3"
      },
      "source": [
        "リストとは、数列と同じように、いくつもの数を並べた「変数の列」（数列）のことである。一つの名前と、添字（index）を指定することで、その内容を呼び出せる。\n",
        "\n",
        "> a[0], a[1], a[2],....\n",
        "\n",
        "この例では、リスト名は a である。Pythonを含む多くのプログラミング言語では、リストの添字は $0$ から始まる（ zero-origin )が、一部のプログラミング言語では、リストの添字を $1$ から始める( one-origin )。\n",
        "\n",
        "リストは、数学の数列と異なり、長さは有限である。リストの要素に値を代入するために、特別な既報はない。以下のようにすれば、代入できる。\n",
        "> a[1] = 30"
      ]
    },
    {
      "cell_type": "markdown",
      "metadata": {
        "id": "glcTaaGe0Ld3"
      },
      "source": [
        "### 7.1.1 リストの長さ\n",
        "> len(hoge)\n",
        "\n",
        "リスト hoge の長さ（要素の個数）を表す。len(hoge)の値が30なら、hoge[0]からhoge[29]まで要素がある。\n",
        "\n",
        "### 7.1.2 リストに要素を追加する\n",
        "> hoge.append(x)\n",
        "\n",
        "リスト hoge に、x が追加される。 \n",
        "\n",
        "### 7.1.3 リストの要素の和を求める\n",
        "> sum(hoge)\n",
        "\n",
        "リストの要素のうち、数値のものをすべて加えた値になる。\n",
        "\n",
        "### 7.1.4 リストをつなげて新しいリストを作る\n",
        "リストを + でつなげると、リスト同士をつないだ新しいリストを表す。"
      ]
    },
    {
      "cell_type": "code",
      "metadata": {
        "id": "suVv8q2l0Ld4"
      },
      "source": [
        "hoge = [31, 28, 31, 30, 31, 30, 31, 31, 30, 31, 30] \n",
        "print(hoge)\n",
        "print(len(hoge))\n",
        "\n",
        "hoge.append(31)\n",
        "\n",
        "print(hoge)\n",
        "print(len(hoge))\n",
        "\n",
        "print(sum(hoge))\n",
        "\n",
        "heijitsu = [\"getsu\", \"ka\", \"sui\", \"moku\", \"kin\"]\n",
        "syumatsu = [\"do\", \"nichi\"]\n",
        "youbi = heijitsu + syumatsu\n",
        "print(youbi)"
      ],
      "execution_count": null,
      "outputs": []
    },
    {
      "cell_type": "markdown",
      "metadata": {
        "id": "phkfGocxzF5_"
      },
      "source": [
        "### リストからグラフ"
      ]
    },
    {
      "cell_type": "code",
      "metadata": {
        "id": "1eBZfz8szjG2"
      },
      "source": [
        "import matplotlib.pyplot as plt # グラフ描画ライブラリ\n",
        "\n",
        "y=[0,1,4,9]\n",
        "\n",
        "plt.plot(y) # 位置の配列をプロット\n",
        "plt.title(\"parabollic motion\") # グラフのタイトル\n",
        "plt.xlabel(\"distance\") #x 軸ラベル\n",
        "plt.ylabel(\"height\") #y 軸ラベル\n",
        "plt.show()"
      ],
      "execution_count": null,
      "outputs": []
    },
    {
      "cell_type": "code",
      "metadata": {
        "id": "RcSoMZL6zMSP"
      },
      "source": [
        "import matplotlib.pyplot as plt # グラフ描画ライブラリ\n",
        "\n",
        "x=[0,1,2,3]\n",
        "y=[0,1,4,9]\n",
        "\n",
        "plt.plot(x,y) # 位置の配列をプロット\n",
        "plt.title(\"parabollic motion\") # グラフのタイトル\n",
        "plt.xlabel(\"distance\") #x 軸ラベル\n",
        "plt.ylabel(\"height\") #y 軸ラベル\n",
        "plt.show()"
      ],
      "execution_count": null,
      "outputs": []
    },
    {
      "cell_type": "code",
      "metadata": {
        "id": "dIdyb1h8z3kb"
      },
      "source": [
        "import matplotlib.pyplot as plt # グラフ描画ライブラリ\n",
        "\n",
        "x=[0,1,2,3]\n",
        "y=[0,1,4,9]\n",
        "\n",
        "plt.scatter(x,y) # 位置の配列をプロット\n",
        "plt.title(\"points\") # グラフのタイトル\n",
        "plt.xlabel(\"distance\") #x 軸ラベル\n",
        "plt.ylabel(\"height\") #y 軸ラベル\n",
        "plt.show()"
      ],
      "execution_count": null,
      "outputs": []
    },
    {
      "cell_type": "code",
      "metadata": {
        "id": "ZcbgS3dD0c01"
      },
      "source": [
        "!pip3 install ColabTurtle\n",
        "from ColabTurtle.Turtle import *\n",
        "\n",
        "#4角形\n",
        "initializeTurtle(initial_speed=5)\n",
        "color('orange')\n",
        "bgcolor('white')\n",
        "width(3)\n",
        "for i in range(5):\n",
        "    forward(200)\n",
        "    left(144)"
      ],
      "execution_count": null,
      "outputs": []
    },
    {
      "cell_type": "code",
      "metadata": {
        "id": "Rfhg3GP1-zNL"
      },
      "source": [
        "from PIL import Image, ImageDraw\n",
        "im = Image.new('RGB', (600, 250), (128, 128, 128))\n",
        "draw = ImageDraw.Draw(im)\n",
        "for u in range(0, 5):\n",
        "  draw.ellipse((75+20*u,75+20*u,80+22*u,80+22*u),fill=(255,128,0))\n",
        "draw.arc((25, 50, 175, 200), start=30, end=270, fill=(255, 255, 0))\n",
        "draw.chord((225, 50, 375, 200), start=30, end=270, fill=(0, 255, 0), outline=(0, 0, 0))\n",
        "draw.pieslice((425, 50, 575, 200), start=30, end=270, fill=(255, 255, 255), outline=(0, 0, 0))\n",
        "im"
      ],
      "execution_count": null,
      "outputs": []
    },
    {
      "cell_type": "markdown",
      "metadata": {
        "id": "GlMVGXe-0N7Q"
      },
      "source": [
        "# 8 **エラトステネスのふるい**"
      ]
    },
    {
      "cell_type": "markdown",
      "metadata": {
        "id": "m3uO9Zzc0Ld4"
      },
      "source": [
        "たくさんの素数を探し出していく方法の一つに、「エラトステネスのふるい」と呼ばれる方法がある。ここでは、1 から $m$ までの整数のうち、素数となるものをすべて求めてみよう。このプログラムを実行すると、\n",
        "* a[i] が1なら i は素数。\n",
        "* a[i] が0なら i は合成数。\n",
        "\n",
        "という状態になることが目的であるとする。\n",
        "* 最初は、すべての要素に 1 を代入して初期化しておく。\n",
        "* 最初の $i=2$ に対して、$2$以外の$2$の倍数 $j (j=4,6, 8, 10, \\cdots )$ は素数でないので、リストの$j$番目 $(j=4,6, 8, 10, \\cdots )$ の要素 a[j] の値を $0$ にする。\n",
        "* 同様に、$3$以外の$3$の倍数 $j (j=6, 9, 12, \\cdots )$ も行なう。\n",
        "*  $i=4$ では、 $ a[i] == 0 $ であるから、これは飛ばす。\n",
        "* $5$以外の$5$の倍数 $j (j=10, 15, 20, \\cdots )$ というようにして、つぎつぎと倍数を素数でないと判断していく。\n",
        "\n",
        "これを続けていけばよい。\n",
        "\n"
      ]
    },
    {
      "cell_type": "code",
      "metadata": {
        "id": "m_S-FZQ60Ld4"
      },
      "source": [
        "import math\n",
        "\n",
        "m = 1000\n",
        "a = [1] * int(m+1)\n",
        "limit = int(math.sqrt(m))\n",
        "sosu = []\n",
        "\n",
        "for i in range(2, limit+1):\n",
        "  if a[i] == 1 :\n",
        "    j = i + i  \n",
        "    while j <= m :\n",
        "            a[j] = 0\n",
        "            j += i\n",
        "\n",
        "for i in range(2, m+1):\n",
        "  if a[i] == 1 :\n",
        "    sosu.append( i )\n",
        "\n",
        "print(sosu)"
      ],
      "execution_count": null,
      "outputs": []
    },
    {
      "cell_type": "markdown",
      "metadata": {
        "id": "TLxbLvG80Ld4"
      },
      "source": [
        "上のプログラムの解説\n",
        "* 4行目：リストaに、最初は(4行目から6行目で)すべて 1 を代入しておく。（Python での初期化の、独特の書き方）\n",
        "* 5行目：変数 $i$ は、 $\\sqrt{m}$ の直前まで調べればよい。そこで、その境界を設定する。\n",
        "* 6行目では、見つかった素数を格納するリストを用意しておく。\n",
        "* 8行目では、  $i<\\sqrt{m}+1$ という条件を使って、 $i$ の範囲を指定している。\n",
        "* 9行目で、 $i$が素数であると判定したら、\n",
        "* 9行目で、 $j= i+i = 2i$ を設定し、\n",
        "* 10行目から12行目で、 $j=2i, 3i, ... $ と、可能なところまで a[j] の値を0にする。\n",
        "* 15行目から17行目で、改めて、a[$2$]からa[$m$]までのうち、a[$i$] が1 のものは、$i$が素数であるから、リスト sosu に追加する。このとき append を利用している。 "
      ]
    },
    {
      "cell_type": "markdown",
      "metadata": {
        "id": "QfdlvY5O-RHp"
      },
      "source": [
        "# 9 関数定義"
      ]
    },
    {
      "cell_type": "markdown",
      "metadata": {
        "id": "2Raj7irs-Up9"
      },
      "source": [
        "一定の手順をまとめて計算する作業のことを、プログラミングの世界では、関数(function)という。関数の定義には、さまざまなやりかたがあるが、ここでは、ごく簡単な例を紹介する。\n",
        "いま、ある色 の RGB成分が、 $r, g, b $ であるとする。このとき、次の式で計算される $v$ の値は、その色の明度と呼ばれる値である。\n",
        "\n",
        "$$ v = \\frac{\\ r \\times 299+g \\times 587+b \\times 114\\ }{1000} $$\n",
        "\n",
        "Webのさまざまな規格を定めている W3Cという団体では、視覚障害者のことを考えたユニバーサルデザインを実現するため、画面の色の背景と文字の明度差が 125 以上になることを求めている。\n",
        "以下のPython の関数 brightness $(r, g, b)$  は、3つの引数（ひきすう） $r, g, b$ を受け取って、明度を返すようになっている。始めに、文字色のRGBとして  $r_1, g_1, b_1$ を入力させ、次に、背景色のRGBとして  $r_2, g_2, b_2$ を入力させ、W3C勧告にしたがっているかどうかを判定することができる。"
      ]
    },
    {
      "cell_type": "code",
      "metadata": {
        "id": "QwbEiL07-lNr"
      },
      "source": [
        "def brightness(r, g, b):\n",
        "  v = ( r*299 + g*587 + b*114 )/1000\n",
        "  return v\n",
        "\n",
        "rfor = int(input('forground red? '))\n",
        "gfor = int(input('forground green? '))\n",
        "bfor = int(input('forground blue? '))\n",
        "forgroundbrightness = brightness(rfor, gfor, bfor)\n",
        "\n",
        "rback = int(input('background red? '))\n",
        "gback = int(input('background green? '))\n",
        "bback = int(input('background blue? '))\n",
        "backgroundbrightness = brightness(rback, gback, bback)\n",
        "\n",
        "diff = abs( forgroundbrightness - backgroundbrightness )\n",
        "print('difference=', diff)\n",
        "if diff < 125:\n",
        "  print('Bad')\n",
        "else:\n",
        "  print('Good')"
      ],
      "execution_count": null,
      "outputs": []
    },
    {
      "cell_type": "markdown",
      "metadata": {
        "id": "o3rJa2l18ytp"
      },
      "source": [
        "上のプログラムの解説\n",
        "* 1行目：関数の定義である。 def に続けて、関数名と引数を並べて書く。\n",
        "* 3行目： return を利用して、返す値を決める。\n",
        "* 15行目：自分で定義した関数を呼び出して計算する。"
      ]
    },
    {
      "cell_type": "markdown",
      "metadata": {
        "id": "f4sFybxd_30F"
      },
      "source": [
        "# 10 乱数の利用"
      ]
    },
    {
      "cell_type": "markdown",
      "metadata": {
        "id": "xdeIp96T_9gk"
      },
      "source": [
        "## 10.1 確率を利用したゲーム"
      ]
    },
    {
      "cell_type": "markdown",
      "metadata": {
        "id": "gqiCaDGSAJ0G"
      },
      "source": [
        "次のプログラムは、人間が出した「手」と、コンピュータが出した「手」を比較して、じゃんけんの勝ち負けとして勝敗を決めるプログラムである。\n",
        "* ramdom.random() は、0 以上 1 未満の数をとる。どのような値になるかは、簡単には類推できず、また、その値を参照するたびに、異なる値となる。"
      ]
    },
    {
      "cell_type": "code",
      "metadata": {
        "id": "OsbD1-poAdc2"
      },
      "source": [
        "import random\n",
        "\n",
        "hands = ['Gu', 'Tyoki', 'Pa']\n",
        "out = 'My hando is '\n",
        "x = int(3*random.random())\n",
        "out += hands[x]\n",
        "print(out)"
      ],
      "execution_count": null,
      "outputs": []
    },
    {
      "cell_type": "markdown",
      "metadata": {
        "id": "UyEMsBHEAekk"
      },
      "source": [
        "* 1行目：乱数計算モジュールを利用する宣言をする。\n",
        "* 4行目：出力文の最初を代入しておく。\n",
        "* 5行目： 0以上1未満 で生成された乱数を3倍し、整数部分を取り出すことで、 0, 1, 2 を等確率で発生させる。\n",
        "* 6行目：手を出力文に追加する。\n",
        "* 7行目：出力文を表示する。"
      ]
    },
    {
      "cell_type": "markdown",
      "metadata": {
        "id": "j-h00uiMBOvd"
      },
      "source": [
        "## 10.2 近似値の計算"
      ]
    },
    {
      "cell_type": "markdown",
      "metadata": {
        "id": "6R5bHRaSBPfN"
      },
      "source": [
        "まず、以下の二つの領域を考える。\n",
        "\n",
        "* $ Q=\\{(x,y)\\ |\\ 0 \\le x^2 + y^2 \\le 1\\}$ \n",
        "* $ R=\\{(x,y)\\ |\\ 0 \\le x < 1 かつ 0 \\le y < 1 \\}$ \n",
        "\n",
        "$R$ 内に、ランダムに点を打つと、確率 $\\displaystyle{\\frac{\\pi}{4}}$ で、その点は $Q$ の中に入る。\n",
        "\n",
        "今、乱数を使って $R$ 内に $n$ 個の点を打ってみる。このとき、 $Q$ に入っている点が $s$ 個であったとする。\n",
        "\n",
        "そうすると、点が増えるにしたがって、比率 $h = \\displaystyle{\\frac{s}{n}}$ の値は $\\displaystyle{\\frac{\\pi}{4}}$ に近付くはずである。すなわち、 $4h = \\displaystyle{\\frac{4s}{n}}$ は $\\pi$ に近付くはずである。\n",
        "\n",
        "このようにして、解析的に求めたい値を、実験的に求める数値計算の方法を、「モンテカルロ法」という。"
      ]
    },
    {
      "cell_type": "code",
      "metadata": {
        "id": "Gj5cZSpDBTzQ"
      },
      "source": [
        "import numpy.random as rd\n",
        "\n",
        "incount = 0\n",
        "n = int(input('How many points do you use? '))\n",
        "for i in range(n):\n",
        "  x = rd.random()\n",
        "  y = rd.random()\n",
        "  if  x*x + y*y < 1 :\n",
        "    incount += 1\n",
        "p = 4*incount / n\n",
        "print('4*', incount, '/', n, '=', p)"
      ],
      "execution_count": null,
      "outputs": []
    },
    {
      "cell_type": "markdown",
      "metadata": {
        "id": "c5cmg4Lp0-Or"
      },
      "source": [
        "## 10.3 図示"
      ]
    },
    {
      "cell_type": "markdown",
      "metadata": {
        "id": "m7BXAao91Fj5"
      },
      "source": [
        "【参考】 ここでは、Pythonのグラフ機能を利用して、この方法での点の描画を図示してみる。いままでに利用されていない命令を利用しているので、適宜、資料などをみて勉強してほしい。"
      ]
    },
    {
      "cell_type": "code",
      "metadata": {
        "id": "D4UcYEBII8j4"
      },
      "source": [
        "import numpy.random as rd # 乱数を発生させる関数の呼び出し\n",
        "import matplotlib.pyplot as plt # グラフプロットの呼び出し\n",
        "n = int(input('How many points do you use? ')) # ランダムに打つ点の総数\n",
        "incount = 0 # 円に入った点の数\n",
        "plt.figure(figsize=(5,5))\n",
        "for i in range(n):\n",
        "  x = rd.random() #0-1 の範囲の値\n",
        "  y = rd.random() #0-1 の範囲の値\n",
        "  if x*x + y*y < 1.0: # 単位円の中に入ったら\n",
        "    incount += 1 # 入ったカウンターに１を加える\n",
        "    plt.scatter(x, y, c=\"red\") # 赤色でプロット\n",
        "  else:\n",
        "    plt.scatter(x, y, c=\"blue\") # 青色でプロット\n",
        "p = 4*incount / n\n",
        "print(\" 円周率 :\", p ) # 求まった円周率の近似値\n",
        "plt.title(\"Monte Carlo method\") # グラフのタイトル\n",
        "plt.show()"
      ],
      "execution_count": null,
      "outputs": []
    },
    {
      "cell_type": "markdown",
      "metadata": {
        "id": "FnSBdgK-Bwtz"
      },
      "source": [
        "### 問題\n",
        "円周率を求めるのに、モンテカルロ法は得策ではない。なぜか。\n"
      ]
    },
    {
      "cell_type": "markdown",
      "metadata": {
        "id": "wmDHyX0NQ5fY"
      },
      "source": [
        "# 11 探索の手順とプログラム"
      ]
    },
    {
      "cell_type": "markdown",
      "metadata": {
        "id": "n7OQPD27RKVP"
      },
      "source": [
        "いま、$C_0, C_1, \\cdots, C_{n-1}$ の、 $n$ 枚のカードがあり、手順が始まるまえに、すでに、その値は設定されているとする。探したい値を、 $q$ とする。すなわち、$C_k=q$ となる $k$ の値を求めることが必要となる。\n",
        "\n",
        "さて、コンピュータはどのようにして情報を探しているのだろうか。ある特定の条件を満たすものがあるかどうかを調べる作業のことを、「探索」（サーチ）という。このとき、探索したいデータのことをクエリという。データを探索するアルゴリズムは何通りもあり、それぞれに長所・短所がある。ここでは、探索アルゴリズムを2つ説明する。\n",
        "\n",
        "以下のアルゴリズムでは、長さ1023のリスト b の中に、クエリと一致する要素を探すという状況で考え、query には、クエリの値が代入されているとする。\n",
        "\n",
        "\\begin{array}{|c|c|c|c|c|c|c|c|}\n",
        "\\hline\n",
        "b[0] & b[1] & b[2] & b[3] & b[4] & ........ & b[1021] & b[1022]\\\\\n",
        "\\hline\n",
        "285 & 496 & 5 & 946 & 20 & ........ & 20 & 163\\\\\n",
        "\\hline\n",
        "\\end{array}\n",
        "\n",
        "\n"
      ]
    },
    {
      "cell_type": "markdown",
      "metadata": {
        "id": "qfT4Zoi2R0hf"
      },
      "source": [
        "## 11.1 線形探索"
      ]
    },
    {
      "cell_type": "markdown",
      "metadata": {
        "id": "QkGDVi05R3S8"
      },
      "source": [
        "コンピュータの内部では情報はすべてメモリに記憶されていて、メモリは一列に並べられている。クエリがデータベースの中にあるのかを、メモリの端から端まで調べる方法を全探索という。小説の中にある単語が含まれているか調べるなどの場合は、この方法を利用する。\n",
        "\n",
        "1枚目から順にカードを見ていって、探したいカードが見つかったら、そこで終了するという手順である。\n",
        "\n",
        "表示だけでなく、見つかったか見つからなかったかに応じて、ある変数の値を設定して、他で利用することも考えるためには、例えば、変数 flag の値を、つぎのように計算する手順を作ることにする。\n",
        "\n",
        "+ flag が 0 →まだ見つかってない\n",
        "+ flag が 1 →見つかった\n"
      ]
    },
    {
      "cell_type": "code",
      "metadata": {
        "id": "iKAZFIdpSKTi"
      },
      "source": [
        "b = [85,96,6,22,10,94,71,38,43,63]\n",
        "flag = 0\n",
        "nagasa = len(b)\n",
        "query = int(input('query? '))\n",
        "\n",
        "for i in range(nagasa):\n",
        "  print('b[', i, ']=', b[i], 'is', query, '?')\n",
        "  if query == b[i] :\n",
        "    flag = 1\n",
        "\n",
        "print('flag=', flag)"
      ],
      "execution_count": null,
      "outputs": []
    },
    {
      "cell_type": "markdown",
      "metadata": {
        "id": "w2_5Hph-jEqv"
      },
      "source": [
        "break を利用することで、見つかったときは、探索を中断させることができる。"
      ]
    },
    {
      "cell_type": "code",
      "metadata": {
        "id": "a8n-iHxKZnjC"
      },
      "source": [
        "b = [85,96,6,22,10,94,71,38,43,63]\n",
        "flag = 0\n",
        "nagasa = len(b)\n",
        "query = int(input('query? '))\n",
        "\n",
        "for i in range(nagasa):\n",
        "  print('b[', i, ']=', b[i], 'is', query, '?')\n",
        "  if query == b[i] :\n",
        "    flag = 1\n",
        "    break\n",
        "\n",
        "print('flag=', flag)"
      ],
      "execution_count": null,
      "outputs": []
    },
    {
      "cell_type": "markdown",
      "metadata": {
        "id": "UnD0d-KnZooZ"
      },
      "source": [
        "さらに、Python の for でリストを使う方法もある。（Pythonっぽい）"
      ]
    },
    {
      "cell_type": "code",
      "metadata": {
        "id": "YrpJ3qDFjM9H"
      },
      "source": [
        "b = [85,96,6,22,10,94,71,38,43,63]\n",
        "flag = 0\n",
        "query = int(input('query? '))\n",
        "\n",
        "for i in b:\n",
        "  print(i, '==', query, '?')\n",
        "  if i == query:\n",
        "    flag = 1\n",
        "    break\n",
        "\n",
        "print('flag=', flag)"
      ],
      "execution_count": null,
      "outputs": []
    },
    {
      "cell_type": "markdown",
      "metadata": {
        "id": "m56R3dksjca1"
      },
      "source": [
        "*  行10 の break を実行すると、そのときに行われている一番小さい for, while の繰り返しを中断させる。\n"
      ]
    },
    {
      "cell_type": "markdown",
      "metadata": {
        "id": "SHuaRAY3Sf9o"
      },
      "source": [
        "### 線形探索の計算量\n",
        "\n",
        "もし、相異なる $n$ 枚のカードがあって、そのなかに確実に目的のカードがあるとするとき、カードを見る回数の平均を求めてみよう。\n",
        "\n",
        "探したいカードが1枚目の確率は $\\displaystyle{\\frac{1}{\\ n\\ }}$ である。探したいカードが2枚目の確率も $\\displaystyle{\\frac{1}{\\ n\\ }}$ であるが、このとき、カードを2回見ている。\n",
        "\n",
        "このように考えると、カードを1回だけ見る確率も、カードを2回だけ見る確率も、そして、カードを $n$ 回だけ見る確率も、すべて $\\frac{1}{\\ n\\ }$ である。よって、カードを見る回数の平均（期待値）は、以下の式で求めることができる。\n",
        "\n",
        "$ \\frac{1}{\\ n\\ } + \\frac{2}{\\ n\\ } + \\cdots + \\frac{n}{\\ n\\ } = \\frac{\\ \\ \\displaystyle{\\frac{n(n+1)}{2}}\\ \\ }{n} = \\frac{n+1}{2}$"
      ]
    },
    {
      "cell_type": "markdown",
      "metadata": {
        "id": "EFbIh4yES-2c"
      },
      "source": [
        "## 11.2 二分探索"
      ]
    },
    {
      "cell_type": "markdown",
      "metadata": {
        "id": "WVH_enIDSuWo"
      },
      "source": [
        "$C_0, C_1, \\cdots, C_{n-1}$ の、 $n$ 枚のカードがあり、すべて左から右に整列済みであると仮定する。\n",
        "\n",
        "このとき、値 $q$ が、このカードの中にあるかどうかを調べるために、まず、カードをちょうどまんなかで半分に分け、左側の右端（小さい値を持つ側のもっとも大きい値）と $q$ を比較する。\n",
        "\n",
        "そこに探している値があれば、そこで終了する。もし、 $q$ の方が大きいなら、この右側をさらに半分にする。もし、 $q$ の方が小さいなら、左側の方をさらに半分にする。このようなことを何度も、最後に1枚なるまで続ける。\n",
        "このようにして探索範囲を半分ずつにしていく方法を二分探索という。\n"
      ]
    },
    {
      "cell_type": "markdown",
      "metadata": {
        "id": "IHPn0fQLS1IT"
      },
      "source": [
        "### 二分探索のプログラム\n",
        "\n",
        "もし、リスト b[0] $\\sim$ b[1022] が整列されているならば、リストの前半の最大値 b[511] とqueryの大小関係を比較することで、次のことがわかる。\n",
        "\n",
        "+ query $==$  b[511]  ならば、見つかった。\n",
        "+ 上の条件が成り立たなくて、 query $<$  b[511]  ならば  b[0] $\\sim$ b[510] を調べればよい\n",
        "+ どっちもダメなときは、query $>$ b[511] なので b[512] $\\sim$ b[1022] を調べればよい\n",
        "\n",
        "見つからなかった場合、511個のどこにあるかを探すことになる。\n",
        "\n",
        "例えば、ここで b[0]$\\sim$b[510] 側を調べることになったら、今度は query と b[255] を比較することで、\n",
        "\n",
        "+ query $==$  b[255]  ならば、見つかった。\n",
        "+ 上の条件が成り立たなくて、 query $<$  b[255]  ならば  b[0] $\\sim$ b[254] を調べればよい\n",
        "+ どっちもダメなときは、query $>$ b[255] なので b[256] $\\sim$ b[510] を調べればよい\n",
        "\n",
        "となる。見つからなかった場合、255個のどこにあるかを探すことになる。\n"
      ]
    },
    {
      "cell_type": "markdown",
      "metadata": {
        "id": "LqfuhLBXTKli"
      },
      "source": [
        "### 二分探索を Pythonで書く"
      ]
    },
    {
      "cell_type": "markdown",
      "metadata": {
        "id": "AH-qNhR7TL6_"
      },
      "source": [
        "次のプログラムの通りとなる。"
      ]
    },
    {
      "cell_type": "code",
      "metadata": {
        "id": "ijqkGydITOSB"
      },
      "source": [
        "b = [1,6,10,12,21,22,25,29,38,43,44,63,71,85,94,96]\n",
        "flag = 0\n",
        "nagasa = len(b)\n",
        "query = int(input('query? '))\n",
        "start = int(0)\n",
        "end = int(nagasa-1)\n",
        "while start <= end:\n",
        "  center = int((start+end)/2)\n",
        "  if query == b[center] :\n",
        "    flag = 1\n",
        "    break\n",
        "  elif query < b[center] :\n",
        "    end = center - 1\n",
        "  else :\n",
        "    start = center + 1\n",
        "print('flag=', flag)"
      ],
      "execution_count": null,
      "outputs": []
    },
    {
      "cell_type": "markdown",
      "metadata": {
        "id": "Jn_o4xssToXU"
      },
      "source": [
        "\n",
        "### 二分探索の手間を評価する"
      ]
    },
    {
      "cell_type": "markdown",
      "metadata": {
        "id": "sokhWmKKTpgX"
      },
      "source": [
        "例えば、 $n=1023$ 枚のカードで、この方法を行なうとすると、最初の時点で真中に見つからない場合、対象となるカードは $511$ 枚に絞られる。次の時点で真中に見つからない場合、対象となるカードは $255$ 枚に絞られる。このようにしていくと、多くても10回の繰り返しでカードは必ず1枚になる。（途中で見つかるかも知れない。）\n",
        "\n",
        "言い替えるなら、二分探索では、 $p$ 回の繰り返しをすれば、$2^{p}-1$ 枚のカードからの探索ができることから、カードの枚数を $n$ とすると、繰返しの回数は、おおむね $\\log_2 n$ 回程度となる。\n",
        "\n",
        "二分探索は、最初の整列には非常に手間がかかるが、いったん整列した後では、探索が高速にできるので、同じデータから何度も探索をしたいときに有用である。"
      ]
    },
    {
      "cell_type": "markdown",
      "metadata": {
        "id": "E48_NUmmTyg6"
      },
      "source": [
        "# 12 整列の手順とプログラム"
      ]
    },
    {
      "cell_type": "markdown",
      "metadata": {
        "id": "OQnH2OteTzMk"
      },
      "source": [
        "データを取り扱うときに、そのデータを小さい順や大きい順などに並べておくことがおおい。例えば、二分探索を行なうには、要素がすべて整列されていることが必要となる。\n",
        "\n",
        "このような並べ替えのことを整列（sort）と言う。データを整列するアルゴリズムは何通りもあり、それぞれに長所・短所がある。ここでは、対象を、以下の数が書かれたカードであるとする。\n",
        "\n",
        " \\begin{array}{|c|c|c|c|c|c|c|c|}\n",
        " \\hline\n",
        " 6 & 4 & 3 & 7 & 1 & 8 & 2 & 5\\\\\n",
        " \\hline\n",
        " \\end{array}"
      ]
    },
    {
      "cell_type": "markdown",
      "metadata": {
        "id": "4DU2mT8ET7eG"
      },
      "source": [
        "### 準備：値を交換する手順"
      ]
    },
    {
      "cell_type": "markdown",
      "metadata": {
        "id": "jqxaBgfiT9Wf"
      },
      "source": [
        "これから述べるアルゴリズムは、一列に並べられた10枚のカードのなかから、2枚のカードの置き場所を交換するように、リスト b の2つの要素の値を交換して処理を進める。これには、片方のリスト要素の値を一時的に覚えておく専用の変数(例では tmp )を用意しておくという工夫が必要となる。\n",
        "\n",
        "+ b[2] が531\n",
        "+ b[5] が163\n",
        "\n",
        "↓\n",
        "\n",
        "+ tmp = b[2]\n",
        "+ b[2] = b[5]\n",
        "+ b[5] = tmp \n",
        "\n",
        "↓\n",
        "\n",
        "+ b[2] が163\n",
        "+ b[5] が531\n",
        "\n",
        "多くのプログラミング言語では、このようにして、一時的な変数を用意しておく必要がある。\n",
        "ただし、Pythonは、ここを、\n",
        "\n",
        "+ b[2], b[5] = b[5], b[2]\n",
        "\n",
        "のように簡単に書く方法がある。"
      ]
    },
    {
      "cell_type": "markdown",
      "metadata": {
        "id": "NaBKzYtZUSJM"
      },
      "source": [
        "## 12.1 選択ソート"
      ]
    },
    {
      "cell_type": "markdown",
      "metadata": {
        "id": "dpCTKUJ1Uci5"
      },
      "source": [
        "まず、選択ソートという方法について述べる。\n",
        "\n",
        "+ 第1手順: まず、一番右端に、このなかで最大の数が来るように、カード（数値）の交換をする。\n",
        "+ 第2段階: 残りの数の中で最大の数を右から2番目になるようにする。\n",
        "+ 第3段階: 残りの数の中で最大の数を右から3番目になるようにする。\n",
        "+ 第4段階: 残りの数の中で最大の数を右から4番目になるようにする。\n"
      ]
    },
    {
      "cell_type": "markdown",
      "metadata": {
        "id": "eBOid2D1UfV9"
      },
      "source": [
        "### 選択ソート法のアルゴリズムの記述"
      ]
    },
    {
      "cell_type": "markdown",
      "metadata": {
        "id": "9ARLt4V_UiBp"
      },
      "source": [
        "いま、$C_0, C_1, \\cdots, C_{n-1}$ の、 $n$ 枚のカードがあり、この手順が始まるまえに、すでに、その値は設定されているとする。そのとき、選択ソートをPythonで記述すると、次のプログラムとなる。"
      ]
    },
    {
      "cell_type": "code",
      "metadata": {
        "id": "o8HhkqY0Uk0S"
      },
      "source": [
        "def selectionsort(arg):\n",
        "  nagasa=len(arg)\n",
        "  for e in range(nagasa-1, 0, -1):\n",
        "    for s in range(0, e):\n",
        "      if arg[s] > arg[e]:\n",
        "        arg[s], arg[e] = arg[e], arg[s]\n",
        "\n",
        "# main part\n",
        "seq = [56, 85, 96, 6, 22, 10, 94, 71, 38, 43, 63, 24, 3]\n",
        "\n",
        "print(\"Before\")\n",
        "print(seq)\n",
        "\n",
        "selectionsort(seq)\n",
        "\n",
        "print(\"After\")\n",
        "print(seq)"
      ],
      "execution_count": null,
      "outputs": []
    },
    {
      "cell_type": "markdown",
      "metadata": {
        "id": "2K2eKS3cVxfg"
      },
      "source": [
        "上のプログラムの解説\n",
        "+ 5行目： arg[e] よりも大きな要素 arg[s] を見つけたら、\n",
        "+ 6行目：その値を交換する。"
      ]
    },
    {
      "cell_type": "markdown",
      "metadata": {
        "id": "IOl5tsouV8Tu"
      },
      "source": [
        "### 選択ソートの計算の手間"
      ]
    },
    {
      "cell_type": "markdown",
      "metadata": {
        "id": "IdFbJ8p1V_Jp"
      },
      "source": [
        "ここでは、上記のアルゴリズムにある、$C_s$ と $C_e$ を比較する回数を考える。これは、$e$ 回繰り返される。そして、この手順自体は、$e$ の値を変えながら、繰り返される。"
      ]
    },
    {
      "cell_type": "markdown",
      "metadata": {
        "id": "U5c8nQ-Vf6CQ"
      },
      "source": [
        "## 問題\n",
        "選択ソートによく似た整列法として、以下のものも知られている。調べて、Pythonでプログラムを書いて見よ。\n",
        "* バブルソート\n",
        "* 挿入ソート"
      ]
    },
    {
      "cell_type": "markdown",
      "metadata": {
        "id": "0-Jbxb0aWJKt"
      },
      "source": [
        "## 【注意】Pythonの内部関数を利用した整列"
      ]
    },
    {
      "cell_type": "markdown",
      "metadata": {
        "id": "7EszNyYTWLGR"
      },
      "source": [
        "Pythonには、プログラマが整列のアルゴリズムを知らなくても、リストの中身を整列してしまう方法があるが、授業では扱わない。これは、そもそも、整列の手順を知ることによって、アルゴリズムによる計算能力を身に付けるために、この授業が行なわれているからである。（したがって、実用世界では、Pythonの内部関数を利用した整列を使ってもよい。）"
      ]
    },
    {
      "cell_type": "markdown",
      "metadata": {
        "id": "2IwwUvETWvep"
      },
      "source": [
        "# 13 ハノイの塔"
      ]
    },
    {
      "cell_type": "markdown",
      "metadata": {
        "id": "5pf3o3VAXWNE"
      },
      "source": [
        "「ハノイの塔」と呼ばれる有名な問題がある。ルールは以下の通り。\n",
        "+ 3つの棒が地面に立てられている。 $A_0, A_1, A_2$ と呼ぶことにする。\n",
        "+ 棒 $A_0$ には、中央に穴があいている直径が異なる $n$ 枚の円盤が、下に大きいもの、上に小さいものになるように積まれている。\n",
        "+ あなたは、1回で1枚の円盤を別の棒に移してよい。\n",
        "++ 小さい円盤の上に大きい円盤を載せてはいけない。\n",
        "++ 円盤を重ねて移動してはいけない。\n",
        "++ 円盤は、棒に通した状態でしか置くことが出来ない。\n",
        "+ すべての円盤を、 $A_0$ 以外の1つの棒に移すことができれば、終りである。\n"
      ]
    },
    {
      "cell_type": "markdown",
      "metadata": {
        "id": "YDIor3OGXZyj"
      },
      "source": [
        "## 13.1 手順"
      ]
    },
    {
      "cell_type": "markdown",
      "metadata": {
        "id": "8IZZiArBWxlG"
      },
      "source": [
        "円盤が2枚のとき\n",
        "+ $A_0$ から $A_1$ に円盤（小）を移す。\n",
        "+ $A_0$ から $A_2$ に円盤（大）を移す。\n",
        "+ $A_1$ から $A_2$ に円盤（小）を移す。\n",
        "\n",
        "円盤が3枚のとき\n",
        "どうすればよいだろうか？以下の手順でできることがわかる。\n",
        "\n",
        "+ $A_0$ から $A_1$ に円盤2枚を移す。\n",
        "+ $A_0$ から $A_2$ に円盤（最大）を移す。\n",
        "+ $A_1$ から $A_2$ に円盤2枚を移す。\n",
        "\n",
        "ここに、「 $A_0$ から $A_1$ に円盤2枚を移し」という記述があるが、この作業はすでにできることがわかっているので、省略して書いてあるが、ていねいに書くと、次の通りになる。\n",
        "\n",
        "+ $A_0$ から $A_1$ に円盤2枚を移す。\n",
        "++ $A_0$ から $A_2$ に円盤（小）を移す。\n",
        "++ $A_0$ から $A_1$ に円盤（大）を移す。\n",
        "++ $A_1$ から $A_2$ に円盤（小）を移す。\n",
        "+ $A_0$ から $A_2$ に円盤（最大）を移す。\n",
        "+ $A_1$ から $A_2$ に円盤2枚を移す。\n",
        "++ $A_1$ から $A_0$ に円盤（小）を移す。\n",
        "++ $A_1$ から $A_2$ に円盤（大）を移す。\n",
        "++ $A_0$ から $A_2$ に円盤（小）を移す。\n",
        "\n",
        "では、円盤が4枚のときはどうすればよいか。これは、次の手順でできる。\n",
        "+ $A_0$ から $A_1$ に3枚の円盤を移す。\n",
        "+ $A_0$ から $A_2$ に円盤（最大）を移す。\n",
        "+ $A_1$ から $A_2$ に3枚の円盤を移す。\n",
        "\n",
        "3枚の円盤の移動がすでに可能であることがわかっているので、それを利用すればよいということになる。このようにすれば、円盤の枚数 $n$ がどんな値であったとしても、以下の手順で移動ができるということがわかる。\n",
        "+ $A_0$ から $A_1$ に $n-1$ 枚のを移す。\n",
        "+ $A_0$ から $A_2$ に円盤（最大の円盤）を移す。\n",
        "+ $A_1$ から $A_2$ に $n-1$ 枚の円盤を移す。\n"
      ]
    },
    {
      "cell_type": "markdown",
      "metadata": {
        "id": "8-dlNxj-XLgo"
      },
      "source": [
        "## 13.2 手順を部品にする"
      ]
    },
    {
      "cell_type": "markdown",
      "metadata": {
        "id": "635rHtxnXg-M"
      },
      "source": [
        "$n$ 枚の円盤を、棒 $A_x$ から棒 $A_y$ に 移動させる（棒 $A_z$ を作業用に利用する）手順を書いてみる。これを、Hanoi(n,x,y,z) と呼ぶことにする。例えば、Hanoi(5,0,1,2) は、5枚の円盤を、 $A_0$ から $A_1$ に移動させる。そのときに、 $A_2$ は作業用に使ってよい、という意味である。\n",
        "\n",
        "この手順を、「3つの棒を A, B, C と名付け、3枚の円盤を利用する場合」に、これを Python で記述すると、次のプログラムとなる。\n"
      ]
    },
    {
      "cell_type": "code",
      "metadata": {
        "id": "DnYKYEK3Xhzw"
      },
      "source": [
        "def hanoi(n, x, y, z):\n",
        "  if n == 1:\n",
        "    print('disc', n, ':', x, '->', y, '.')\n",
        "  else:\n",
        "    hanoi(n-1, x, z, y)\n",
        "    print('disc', n, ':', x, '->', y, '.')\n",
        "    hanoi(n-1, z, y, x)\n",
        "\n",
        "k=int(input('k? '))\n",
        "hanoi(k, 'A', 'B', 'C')"
      ],
      "execution_count": null,
      "outputs": []
    },
    {
      "cell_type": "markdown",
      "metadata": {
        "id": "u24TyJOMXxy9"
      },
      "source": [
        "## 13.3 再帰呼出し"
      ]
    },
    {
      "cell_type": "markdown",
      "metadata": {
        "id": "ws_CTWq7X0nn"
      },
      "source": [
        "前節の手順では、Hanoi(3,0,1,2) を求めるには、途中で、Hanoi(2,0,2,1) と、Hanoi(2,2,1,0) が必要になる。そして、Hanoi(2,0,2,1) を求めるには、途中で、Hanoi(1,0,1,2) と、Hanoi(1,1,2,0) が必要になる。\n",
        "\n",
        "このように、Hanoiという手順のなかでHanoiを呼び出している。このように、ある手順の途中で自分自身を呼び出すことを再帰呼出しという。\n"
      ]
    },
    {
      "cell_type": "markdown",
      "metadata": {
        "id": "1oNtXLLPecIr"
      },
      "source": [
        "##問題\n",
        "たらい回し関数とよばれる関数がある。有名なものとしては、アッカーマン関数、竹内関数である。Python でプログラムを作成してみよ。\n",
        "\n",
        "\n",
        "*  アッカーマン関数 [https://mathworld.wolfram.com/AckermannFunction.html](https://mathworld.wolfram.com/AckermannFunction.html)\n",
        "*  竹内関数 [https://mathworld.wolfram.com/TAKFunction.html](https://mathworld.wolfram.com/TAKFunction.html)\n",
        "\n"
      ]
    },
    {
      "cell_type": "markdown",
      "metadata": {
        "id": "Fmx4mlEnYqxn"
      },
      "source": [
        "# 14 クイックソート"
      ]
    },
    {
      "cell_type": "markdown",
      "metadata": {
        "id": "Uv1VDQJrY0gR"
      },
      "source": [
        "## 14.1 クイックソートの手順"
      ]
    },
    {
      "cell_type": "markdown",
      "metadata": {
        "id": "cbYapPy3YsEI"
      },
      "source": [
        "この方法では、対象となる領域からカードを一枚取り出して、そのカードの値よりも大きな値を右側に、そのカードの値よりも小さな値を左側に積む、という作業を何度も行なう。\n",
        "\n",
        "+ 第1手順: まず、一番右端のカードを取り出して、自分の前におく。これを pivot （閾値、要め）と呼ぶ。\n",
        "+ 第2手順: pivot よりも大きな値のカードを右側に、山積みにする。pivot よりも小さな値のカードを左側に、山積みにする。\n",
        "\n",
        "\n",
        "このようにして、pivot （先頭のカードの値）を見て残りを二つの山にわけていく作業をしていけば、やがて、カードは1枚になり、整列が簡単にできる。クイックソートは再帰を使って書くことができる。"
      ]
    },
    {
      "cell_type": "markdown",
      "metadata": {
        "id": "mRmhN9K-ZD54"
      },
      "source": [
        "## 14.2 Python でクイックソート"
      ]
    },
    {
      "cell_type": "code",
      "metadata": {
        "id": "XUHohwo1ZIZG"
      },
      "source": [
        "def quicksort(target):\n",
        "  nagasa=len(target)\n",
        "  if nagasa <= 1:\n",
        "    return target\n",
        "  pivot = target[0]\n",
        "  foo = [pivot]\n",
        "  smaller = []\n",
        "  larger = []\n",
        "  for x in range(1, nagasa):\n",
        "    if target[x] <= pivot:\n",
        "      smaller.append(target[x])\n",
        "    else:\n",
        "      larger.append(target[x])\n",
        "  smaller = quicksort(smaller)\n",
        "  larger = quicksort(larger)\n",
        "  return smaller + foo + larger \n",
        "\n",
        "# main part\n",
        " \n",
        "seq = [56,85,96,6,22,10,94,33,71,38,43,63,1]\n",
        "\n",
        "print(\"Before\", seq)\n",
        "seq = quicksort(seq)\n",
        "print(\"After \", seq)"
      ],
      "execution_count": null,
      "outputs": []
    },
    {
      "cell_type": "markdown",
      "metadata": {
        "id": "Lab9wsypYxTI"
      },
      "source": [
        "## 14.3 クイックソートの計算の手間"
      ]
    },
    {
      "cell_type": "markdown",
      "metadata": {
        "id": "zqzqnRozY66C"
      },
      "source": [
        "すでに述べた選択ソートの場合、$n$ 個の数を整列させるために、数同士の比較を $\\displaystyle{\\frac{n(n-1)}{2}}$ 回行なう必要があった。クイックソートの場合、最初に並んでいる数の状況によって必要となる比較回数は異なるが、平均すると、$n\\log_2 n$ 回程度で済むことがわかっている。これは例えば、約 $n=1,000$ の場合、選択ソートだと約 $50万$ 回の比較だが、クイックソートなら、約 $1万$ 回で済むということである。\n",
        "\n",
        "データを整列させておけば、二分探索によって高速にデータを捜し出すことができることから、データの整列方法の研究成果は多い。現在は、データの特徴によって、さまざまな整列方法が使い分けられている。"
      ]
    },
    {
      "cell_type": "markdown",
      "metadata": {
        "id": "rImP0qE7gkB-"
      },
      "source": [
        "## 問題\n",
        "他の整列法として、以下のものも知られている。調べて、Pythonでプログラムを書いて見よ。\n",
        "* マージソート\n",
        "* ヒープソート"
      ]
    },
    {
      "cell_type": "markdown",
      "metadata": {
        "id": "eUba_GKXOoK2"
      },
      "source": [
        "# 15 放物運動のシミュレーション（情報処理学会MOOC教材より転載）\n",
        "\n"
      ]
    },
    {
      "cell_type": "markdown",
      "metadata": {
        "id": "437MUNwVroES"
      },
      "source": [
        "*   物体を投げ上げたときの落下の軌跡を予想する\n",
        "*   空気抵抗を考慮しなければ、横方向の等速運動と縦方向の等加速度運動で動きを予想できる\n",
        "\n"
      ]
    },
    {
      "cell_type": "code",
      "metadata": {
        "id": "R8GpAcUDJQ11"
      },
      "source": [
        "import math as math # 数値計算ライブラリ\n",
        "import matplotlib.pyplot as plt # グラフ描画ライブラリ\n",
        "\n",
        "dt = 0.01 # 微小時間 ( 時間間隔 )\n",
        "v0 = 30 # 初速度\n",
        "g = 9.8 # 重力加速度\n",
        "x = [0] # 水平位置の初期値 0\n",
        "y = [0] # 鉛直位置の初期値は 0\n",
        "angle = 45.0 * math.pi / 180.0 # 投げ上げ角度\n",
        "vx = [v0 * math.cos(angle)] # 水平方向の初速度\n",
        "vy = [v0 * math.sin(angle)] # 鉛直方向の初速度\n",
        "for i in range(1000):\n",
        "  vx.append( vx[i] ) # 微小時間後の水平方向の速度\n",
        "  vy.append( vy[i] - g * dt ) # 微小時間後の鉛直方向の速度\n",
        "  x.append( x[i] + vx[i] * dt ) # 微小時間後の水平位置\n",
        "  y.append( y[i] + ( vy[i] + vy[i+1] ) / 2.0 * dt ) # 微小時間後の鉛直位置\n",
        "  if y[i] <  0 : # もし鉛直位置が 0 を下回ったら\n",
        "    break # ループ中断\n",
        "\n",
        "plt.plot(x,y) # 位置の配列をプロット\n",
        "plt.title(\"parabollic motion\") # グラフのタイトル\n",
        "plt.xlabel(\"distance\") #x 軸ラベル\n",
        "plt.ylabel(\"height\") #y 軸ラベル\n",
        "plt.show()"
      ],
      "execution_count": null,
      "outputs": []
    },
    {
      "cell_type": "code",
      "metadata": {
        "id": "MFqWJvSMQF38"
      },
      "source": [
        "import math as math # 数値計算ライブラリ\n",
        "import matplotlib.pyplot as plt # グラフ描画ライブラリ\n",
        "\n",
        "dt = 0.01 # 微小時間 ( 時間間隔 )\n",
        "v0 = 30 # 初速度\n",
        "g = 9.8 # 重力加速度\n",
        "x = [0] # 水平位置の初期値 0\n",
        "y = [0] # 鉛直位置の初期値は 0\n",
        "h = 0.9 # 反発係数\n",
        "angle = 45.0 * math.pi / 180.0 # 投げ上げ角度\n",
        "vx = [v0 * math.cos(angle)] # 水平方向の初速度\n",
        "vy = [v0 * math.sin(angle)] # 鉛直方向の初速度\n",
        "for i in range(1000):\n",
        "  vx.append( vx[i] ) # 微小時間後の水平方向の速度\n",
        "  x.append( x[i] + vx[i] * dt ) # 微小時間後の水平位置\n",
        "  next_vy =  vy[i] - g * dt # 微小時間後の鉛直方向の速度\n",
        "  next_y = y[i] + ( vy[i] + next_vy ) / 2.0 * dt # 微小時間後の鉛直位置\n",
        "  if next_y > 0 : # もし微小時間後の鉛直位置が 0 より大きいなら\n",
        "    vy.append( next_vy )\n",
        "    y.append( next_y ) # 微小時間後の鉛直位置\n",
        "  else: # そうでないなら反発させる\n",
        "    vy.append( -next_vy * h ) #反発係数 h\n",
        "    y.append( -next_y ) # 反発したあとの位置\n",
        "\n",
        "plt.plot(x,y) # 位置の配列をプロット\n",
        "plt.title(\"parabollic motion\") # グラフのタイトル\n",
        "plt.xlabel(\"distance\") #x 軸ラベル\n",
        "plt.ylabel(\"height\") #y 軸ラベル\n",
        "plt.show()"
      ],
      "execution_count": null,
      "outputs": []
    },
    {
      "cell_type": "markdown",
      "metadata": {
        "id": "hOZ8y83ZK-cN"
      },
      "source": [
        "# 16 統計処理"
      ]
    },
    {
      "cell_type": "markdown",
      "metadata": {
        "id": "Yi_ben4Ww8qx"
      },
      "source": [
        "PythonにはNumPyと呼ばれる拡張モジュールが存在する。\n",
        "まずはNumPyを導入してみよう。\n",
        "import numpyはNumPyを使えるようにする。\n",
        "as npという部分は、numpyを省略した形で使えるようにしている。"
      ]
    },
    {
      "cell_type": "code",
      "metadata": {
        "id": "Qe3rtsORNv88"
      },
      "source": [
        "import numpy as np"
      ],
      "execution_count": null,
      "outputs": []
    },
    {
      "cell_type": "markdown",
      "metadata": {
        "id": "ysC_XkuuO2vt"
      },
      "source": [
        "関数を使うためのデータも用意しておく。5が2つあることに注意しよう。\n",
        "\n",
        "\n"
      ]
    },
    {
      "cell_type": "code",
      "metadata": {
        "id": "JO1pQVU0O8Ko"
      },
      "source": [
        "a = np.asarray([1,2,3,4,5,5,6,7,8,9,10])"
      ],
      "execution_count": null,
      "outputs": []
    },
    {
      "cell_type": "markdown",
      "metadata": {
        "id": "OEop8pCcNyZs"
      },
      "source": [
        "## 16.1 基本的な関数\n",
        "いくつかの基本的な関数を見ていこう。実行しながら確認してみよう。"
      ]
    },
    {
      "cell_type": "markdown",
      "metadata": {
        "id": "vhS_SPxmP0fu"
      },
      "source": [
        "### 16.1.1 最大値と最小値"
      ]
    },
    {
      "cell_type": "code",
      "metadata": {
        "id": "RdBTSm9uQBp-",
        "colab": {
          "base_uri": "https://localhost:8080/"
        },
        "outputId": "c986046b-cf3c-41d4-e1ab-3762ba3b61bc"
      },
      "source": [
        "np.max(a)"
      ],
      "execution_count": null,
      "outputs": [
        {
          "output_type": "execute_result",
          "data": {
            "text/plain": [
              "10"
            ]
          },
          "metadata": {
            "tags": []
          },
          "execution_count": 37
        }
      ]
    },
    {
      "cell_type": "code",
      "metadata": {
        "id": "hVDQms4dQD-K",
        "colab": {
          "base_uri": "https://localhost:8080/"
        },
        "outputId": "90614c20-01c8-445b-eb2f-3b96163a7646"
      },
      "source": [
        "np.min(a)"
      ],
      "execution_count": null,
      "outputs": [
        {
          "output_type": "execute_result",
          "data": {
            "text/plain": [
              "1"
            ]
          },
          "metadata": {
            "tags": []
          },
          "execution_count": 38
        }
      ]
    },
    {
      "cell_type": "markdown",
      "metadata": {
        "id": "5qVU1alzQjgw"
      },
      "source": [
        "### 16.1.2 和"
      ]
    },
    {
      "cell_type": "code",
      "metadata": {
        "id": "lWYTXgHOQiVh"
      },
      "source": [
        "np.sum(a)"
      ],
      "execution_count": null,
      "outputs": []
    },
    {
      "cell_type": "markdown",
      "metadata": {
        "id": "_wfeM7YiXneu"
      },
      "source": [
        "### 16.1.3 平均と中央値"
      ]
    },
    {
      "cell_type": "code",
      "metadata": {
        "id": "Ucl8T6KaP1F3"
      },
      "source": [
        "np.mean(a)"
      ],
      "execution_count": null,
      "outputs": []
    },
    {
      "cell_type": "code",
      "metadata": {
        "id": "1SnJgDg3W4E1"
      },
      "source": [
        "np.median(a)"
      ],
      "execution_count": null,
      "outputs": []
    },
    {
      "cell_type": "markdown",
      "metadata": {
        "id": "2GsI5qi3QqEZ"
      },
      "source": [
        "## 16.2 分散と標準偏差\n",
        "\n",
        "dataには正規分布に従う乱数によって取得された1000個の点が格納されている。標準偏差は10になるように調整してある。\n",
        "正規分布がよくわからない場合、標準偏差が10に近くなっていることを確認できていれば良いとする。"
      ]
    },
    {
      "cell_type": "code",
      "metadata": {
        "id": "NxEgL2qfTkjI"
      },
      "source": [
        "data = np.random.randn(1000,1)*10"
      ],
      "execution_count": null,
      "outputs": []
    },
    {
      "cell_type": "code",
      "metadata": {
        "id": "fd2suBA_QoOL",
        "colab": {
          "base_uri": "https://localhost:8080/"
        },
        "outputId": "efc4ab1c-9060-4dc0-f7e7-46d7ec11b492"
      },
      "source": [
        "np.var(data)"
      ],
      "execution_count": null,
      "outputs": [
        {
          "output_type": "execute_result",
          "data": {
            "text/plain": [
              "100.1178598318282"
            ]
          },
          "metadata": {
            "tags": []
          },
          "execution_count": 43
        }
      ]
    },
    {
      "cell_type": "code",
      "metadata": {
        "id": "OEIAB3mdTZfr"
      },
      "source": [
        "np.std(data)"
      ],
      "execution_count": null,
      "outputs": []
    },
    {
      "cell_type": "markdown",
      "metadata": {
        "id": "OrFl13CLYikO"
      },
      "source": [
        "## 16.3 **相関係数**\n",
        "10人クラスのテストの点数とレポートの評価が次のようになったとする。\n",
        "それぞれ左の数字がテストの点数、右の数字がレポートの評価となっている。\n",
        "\n",
        "1.   10 3\n",
        "2.   30 5\n",
        "3.   50 6\n",
        "4.   60 7\n",
        "5.   70 8\n",
        "6.   70 7\n",
        "7.   80 9\n",
        "8.   80 8\n",
        "9.   90 9\n",
        "10. 100 10\n",
        "\n",
        "まずは図示してみよう。\n"
      ]
    },
    {
      "cell_type": "code",
      "metadata": {
        "id": "VkNWJB8JTc5r"
      },
      "source": [
        "testscore = [10,30,50,60,70,70,80,80,90,100]\n",
        "reportscore = [3,5,6,7,8,7,9,8,9,10]\n",
        "\n",
        "import matplotlib\n",
        "matplotlib.pyplot.scatter(testscore,reportscore)"
      ],
      "execution_count": null,
      "outputs": []
    },
    {
      "cell_type": "markdown",
      "metadata": {
        "id": "r0rUAANAcsyK"
      },
      "source": [
        "グラフからは正の相関があるだろうという予想がつく。\n",
        "では相関係数を求めてみよう。"
      ]
    },
    {
      "cell_type": "code",
      "metadata": {
        "id": "dEOT0vXmcJuy"
      },
      "source": [
        "np.corrcoef(testscore,reportscore)"
      ],
      "execution_count": null,
      "outputs": []
    },
    {
      "cell_type": "markdown",
      "metadata": {
        "id": "ZbXaCZPjcy_n"
      },
      "source": [
        "0.98377168という数字が相関係数になっている。グラフと見比べると正しそうだとわかる。"
      ]
    },
    {
      "cell_type": "markdown",
      "metadata": {
        "id": "J_-WgAxZYJ2N"
      },
      "source": [
        "## 16.4 データの順位\n",
        "例えば以下の50m走の順位を知りたい時には以下のように実行できる。4.5という数字は9がないのが見てわかるように、同着を表している。"
      ]
    },
    {
      "cell_type": "code",
      "metadata": {
        "id": "aehSl7KwcgU4"
      },
      "source": [
        "fiftymetertime = [6.21,8.19,5.99,7.15,8.20,7.22,7.15,7.57,7.90,8.23,6.25,9.18]\n",
        "\n",
        "from scipy.stats import rankdata\n",
        "\n",
        "print(rankdata(np.array(fiftymetertime)))"
      ],
      "execution_count": null,
      "outputs": []
    },
    {
      "cell_type": "markdown",
      "metadata": {
        "id": "ywWyar8jaPKb"
      },
      "source": [
        "特定のタイムが何位に相当するかも調べることができる。\n",
        "例えば5.99が何位に相当するか知りたいならば、左から３番目なので以下のxの値に3を代入すると、何位か表示できる。xの値を変えれば、別のタイムの順位についても知ることができる。"
      ]
    },
    {
      "cell_type": "code",
      "metadata": {
        "id": "Nth2Y6Q_ZHJu"
      },
      "source": [
        "x=3\n",
        "a = rankdata(np.array(fiftymetertime))\n",
        "\n",
        "print(\"タイムは\" + str(fiftymetertime[x-1]))\n",
        "print(\"順位は\" + str(a[x-1]))"
      ],
      "execution_count": null,
      "outputs": []
    },
    {
      "cell_type": "markdown",
      "metadata": {
        "id": "d3Nqai5hOFI8"
      },
      "source": [
        "## 16.5 演習\n",
        "与えられたデータの\n",
        "* 最大値\n",
        "* 最小値\n",
        "* 総和\n",
        "* 平均値\n",
        "* 中央値\n",
        "* 分散\n",
        "* 標準偏差\n",
        "* 相関係数\n",
        "* データの順位\n",
        "\n",
        "について自分で分析してみよう。データは気象庁より取得した練馬区の過去1ヶ月の最高気温を用いる。"
      ]
    },
    {
      "cell_type": "code",
      "metadata": {
        "id": "29Sn93IeOvOB"
      },
      "source": [
        "htemp = [25.9, 29.7, 26.9, 23.4, 28.5, 17.1, 22.0, 23.3, 22.3, 27.1, 29.6, 26.9, 29.0, 27.5, 28.8, 21.6, 30.0, 20.1, 18.8, 15.4, 14.0, 19.3, \n",
        "         24.1, 26.8, 27.1, 25.0, 26.9, 25.8, 28.9, 28.3, 24.6]"
      ],
      "execution_count": null,
      "outputs": []
    },
    {
      "cell_type": "markdown",
      "metadata": {
        "id": "dfJw9kyuW56o"
      },
      "source": [
        "結果を表示するときには\n",
        "\n",
        "```\n",
        "# print(\"最大値は:\" , max(htemp))\n",
        "```\n",
        "\n",
        "などのように、その値が何を示しているのかわかるようにしましょう。\n",
        "相関係数以外の項目に関して、以下のセルで実行してみよう。\n"
      ]
    },
    {
      "cell_type": "code",
      "metadata": {
        "id": "ArnNNrdtUKTJ"
      },
      "source": [
        "print(\"最大値は:\" , max(htemp))"
      ],
      "execution_count": null,
      "outputs": []
    },
    {
      "cell_type": "markdown",
      "metadata": {
        "id": "z9OXFv7NXie4"
      },
      "source": [
        "最後に相関係数を試してみよう。\n",
        "最高気温のデータに追加で日照時間のデータを追加する。"
      ]
    },
    {
      "cell_type": "code",
      "metadata": {
        "id": "K0zfLpITe4Fm"
      },
      "source": [
        "stime = [11.9, 12.4, 7.3, 1.9, 7.3, 0.0, 12.8, 11.0, 2.3, 4.2, 8.9, 3.9, 9.8, 12.7, 6.5, 0.0, 12.7, 0.0, 0.0, \n",
        "         0.0, 0.0, 0.4, 2.7, 8.3, 7.1, 0.2, 3.7, 4.8, 12.6, 9.5, 0.0]"
      ],
      "execution_count": null,
      "outputs": []
    },
    {
      "cell_type": "markdown",
      "metadata": {
        "id": "tHCAVKHlfSmr"
      },
      "source": [
        "最高気温と日照時間の相関係数を求めてみよう。配列に格納されているデータはお互い対応しているものとする。\n"
      ]
    },
    {
      "cell_type": "code",
      "metadata": {
        "id": "njL1QD_ffzaz"
      },
      "source": [
        ""
      ],
      "execution_count": null,
      "outputs": []
    },
    {
      "cell_type": "markdown",
      "metadata": {
        "id": "bc_AQ-5JScUF"
      },
      "source": [
        "#17 データ分析とグラフ"
      ]
    },
    {
      "cell_type": "markdown",
      "metadata": {
        "id": "JjCmrtzTYhbt"
      },
      "source": [
        "##17.1棒グラフ\n",
        "棒グラフを表示させる方法を以下に示す．これは果物の値段を表す棒グラフである．"
      ]
    },
    {
      "cell_type": "code",
      "metadata": {
        "id": "26d8bRPTYu5u"
      },
      "source": [
        "#まず，matplotlibというライブラリをインポートする．これはグラフの描画をするためのものである．実行すると、しばらくメッセージが表示されるだけで、なにか計算を行うわけではない。エラーなく終われば、この先に進む準備完了となる。\n",
        "import matplotlib.pyplot as plt\n",
        "!pip install japanize-matplotlib\n",
        "import japanize_matplotlib"
      ],
      "execution_count": null,
      "outputs": []
    },
    {
      "cell_type": "markdown",
      "metadata": {
        "id": "UgIueoSLJM5p"
      },
      "source": [
        "さっそく棒グラフを表示してみよう。"
      ]
    },
    {
      "cell_type": "code",
      "metadata": {
        "id": "zaqakgRLfBlz"
      },
      "source": [
        "fruit = ['apple', 'orange', 'grape']\n",
        "price = [100, 40, 300]\n",
        "plt.bar(fruit, price)\n",
        "plt.xlabel(\"果物\")\n",
        "plt.ylabel(\"値段（円）\")\n",
        "plt.show()"
      ],
      "execution_count": null,
      "outputs": []
    },
    {
      "cell_type": "markdown",
      "metadata": {
        "id": "7rqZa-LZY0D2"
      },
      "source": [
        "＜解説＞\n",
        "\n",
        "*   果物の名前が横軸，値段が縦軸にくるので，それぞれ配列に入れる．\n",
        "*   plt.barで棒グラフが描け，かっこの中の第一引数に横軸の値，第二引数に縦軸の値を入れる．\n",
        "*   plt.xlabel，plt.ylabelでx軸，y軸のラベル名を設定\n",
        "*   plt.show()で表示"
      ]
    },
    {
      "cell_type": "markdown",
      "metadata": {
        "id": "ARpjCrBjY8Yn"
      },
      "source": [
        "##17.2. 折れ線グラフ\n",
        "折れ線グラフを表示させる方法を以下に示す．\n",
        "これは月ごとの気温の変化を表すグラフである．"
      ]
    },
    {
      "cell_type": "code",
      "metadata": {
        "id": "QxiJ8nZGZ-nD"
      },
      "source": [
        "month = [1, 2, 3, 4, 5, 6, 7, 8, 9, 10, 11, 12]\n",
        "temperature = [5, 6, 10, 15, 21, 23, 26, 26, 23, 17, 13, 8]\n",
        "plt.plot(month, temperature, marker=\"x\")\n",
        "plt.xlabel(\"月\")\n",
        "plt.ylabel(\"気温（度）\")\n",
        "plt.show()"
      ],
      "execution_count": null,
      "outputs": []
    },
    {
      "cell_type": "markdown",
      "metadata": {
        "id": "aw4A8dJ8bnQe"
      },
      "source": [
        "＜解説＞\n",
        "\n",
        "\n",
        "*   横軸の月と縦軸の気温を配列に入れる\n",
        "*   plt.plotで折れ線グラフがかけ，第一引数に横軸の値，第二引数に縦軸の値，第三引数にマークの形を入れる．\n",
        "\n",
        "\n",
        "\n"
      ]
    },
    {
      "cell_type": "markdown",
      "metadata": {
        "id": "h-iF5fdmOL1a"
      },
      "source": [
        "# 離散空間上の線形計画問題"
      ]
    },
    {
      "cell_type": "code",
      "metadata": {
        "id": "DbYuZoruLYfM"
      },
      "source": [
        "import matplotlib.pyplot as plt\n",
        "suzuran=90\n",
        "kasumi=140\n",
        "p_saidai=0\n",
        "a_saidai=0\n",
        "b_saidai=0\n",
        "hana_a=0\n",
        "a=[]\n",
        "p=[]\n",
        "\n",
        "while ( (suzuran>=0) and (kasumi>=0) ) :\n",
        "  hana_b=min(int(suzuran/2), int(kasumi/3))\n",
        "  price=300*hana_a+190*hana_b\n",
        "  print('A=', hana_a, ', B=', hana_b, ', P=', price) \n",
        "  a.append(hana_a)\n",
        "  p.append(price)\n",
        "  if ( price > p_saidai ) :\n",
        "    p_saidai=price\n",
        "    a_saidai=hana_a\n",
        "    b_saidai=hana_b\n",
        "  hana_a+=1\n",
        "  suzuran-=3\n",
        "  kasumi-=5\n",
        "\n",
        "plt.plot(a, p)\n",
        "plt.xlabel(\"A\")\n",
        "plt.ylabel(\"price\")\n",
        "print('Result: A=', a_saidai, ', B=', b_saidai, 'P=', p_saidai) "
      ],
      "execution_count": null,
      "outputs": []
    },
    {
      "cell_type": "markdown",
      "metadata": {
        "id": "At3g_McYcJR1"
      },
      "source": [
        "##17.3. 散布図\n",
        "散布図を表示させる方法を以下に示す．これは気温とアイスクリームの売上の関係を表すものである．\n"
      ]
    },
    {
      "cell_type": "code",
      "metadata": {
        "id": "99qilkBlcIvO"
      },
      "source": [
        "temperature = [21, 22, 24, 24, 27, 28, 29, 30, 32, 33, 33, 33, 35, 35, 37]\n",
        "sales = [4.4, 4.5, 4.3, 5.2, 4.9, 5.2, 5.6, 5, 5.7, 5.2, 6, 6.2, 6, 6.1, 7.1]\n",
        "plt.scatter(temperature, sales)\n",
        "plt.xlabel(\"気温（度）\")\n",
        "plt.ylabel(\"売上（万円）\")\n",
        "plt.show()"
      ],
      "execution_count": null,
      "outputs": []
    },
    {
      "cell_type": "markdown",
      "metadata": {
        "id": "XAfipDqef-8k"
      },
      "source": [
        "＜解説＞\n",
        "\n",
        "*   横軸の気温と縦軸の売上を配列に入れる\n",
        "*   plt.scatterで散布図がかけ，第一引数に横軸，第二引数に縦軸の値を入れる．\n"
      ]
    },
    {
      "cell_type": "markdown",
      "metadata": {
        "id": "ErJeoIjyK9ZI"
      },
      "source": [
        "# 18 WebAPI （情報処理学会MOOC教材より転載）"
      ]
    },
    {
      "cell_type": "markdown",
      "metadata": {
        "id": "WSIuzdlEFvOg"
      },
      "source": [
        "WebAPIとは，Web経由でアクセスできるサーバの機能を使って，情報などを取り出すプログラム間のやりとりを定めたインタフェースのことです。定まった手順にしたがって要求することにより，自前では持っていない機能を自分のプログラムの中で使うことができ，それを元に簡単なプログラムで，高機能なサービスを提供することができるようになります。"
      ]
    },
    {
      "cell_type": "markdown",
      "metadata": {
        "id": "5Wwz0GekLBOe"
      },
      "source": [
        "例）zip cloudが提供する郵便番号検索APIを使って指定した郵便番号から住所を表示するプログラム"
      ]
    },
    {
      "cell_type": "code",
      "metadata": {
        "id": "1qIh6bu5LwJp"
      },
      "source": [
        "import requests\n",
        "import json\n",
        "\n",
        "url = \"http://zipcloud.ibsnet.co.jp/api/search\" # 使用するWebAPI のURL\n",
        "param = {\"zipcode\": \"100-0013\"} #WebAPI の引数\n",
        "\n",
        "res = requests.get(url,params=param) #WebAPI の戻り値がres へ\n",
        "response = json.loads(res.text)\n",
        "address = response[\"results\"][0]\n",
        "\n",
        "print(address[\"address1\"] + address[\"address2\"] + address[\"address3\"])"
      ],
      "execution_count": null,
      "outputs": []
    },
    {
      "cell_type": "markdown",
      "metadata": {
        "id": "HzfWP5GKUOxf"
      },
      "source": [
        "このプログラムは，郵便番号データ配信サービス「zip cloud」が提供するWebAPIを使って，指定した郵便番号の住所を取り出して，表示するプログラムです。\n",
        "* requestsモジュールはWebサーバとデータをやり取りするためのHTTP通信ライブラリです。\n",
        "* jsonモジュールはWebAPIでやり取りするJSON形式のデータを処理するためのものです。\n",
        "* 変数urlにWebAPIのURL，paramに調べたい郵便番号をセットします。\n",
        "* requests.get()を用いて，指定したURLに郵便番号を引数としてアクセスし，返答を変数resに受け取ります。その結果をjson.loads()を使って解析します。\n",
        "* APIの規則に従い，住所に関するデータをaddressに代入すると，address[\"address1\"]で都道府県名，address[\"address2\"]で市区町村名，address[\"address3\"]で町域名が参照できるようになります。\n",
        "\n",
        "> **ディクショナリ**<br>\n",
        "{\"zipcode\": \"100-0013\"}と書かれた形式のデータはディクショナリと呼ばれます。これを変数pramに代入すると，param[\"zipcode\"]という形で，添字に文字列を指定したデータ参照ができます。最後に表示した変数addressもディクショナリで，\"address1\"などを添字としてデータを参照して表示しています。(どういうデータが入っているかは，print(address)を最後に追加してみると見ることができます。)\n",
        "\n",
        "\n",
        "\n"
      ]
    },
    {
      "cell_type": "markdown",
      "metadata": {
        "id": "oGP2wGDjwkpz"
      },
      "source": [
        "演習）上のプログラムを郵便番号を入力してもらって結果を表示するように変更しましょう。"
      ]
    },
    {
      "cell_type": "code",
      "metadata": {
        "id": "3NPHeScRwvRy"
      },
      "source": [
        "import requests\n",
        "import json\n",
        "\n",
        "zip = input(\"郵便番号を入力してください: \")\n"
      ],
      "execution_count": null,
      "outputs": []
    },
    {
      "cell_type": "markdown",
      "metadata": {
        "id": "YzwQZ34ppXOI"
      },
      "source": [
        "# 19 データの活用 （情報処理学会MOOC教材より転載）"
      ]
    },
    {
      "cell_type": "markdown",
      "metadata": {
        "id": "vSM7pCc1W545"
      },
      "source": [
        "WebAPIを利用する以外に，外部に置かれたデータを読み込み活用することもできます。"
      ]
    },
    {
      "cell_type": "markdown",
      "metadata": {
        "id": "wfjfQe-_pcSG"
      },
      "source": [
        "例）気象庁のCSVデータを読み込んで最高気温をプロット"
      ]
    },
    {
      "cell_type": "code",
      "metadata": {
        "id": "_Uf4CR4spvWe"
      },
      "source": [
        "import pandas as pd\n",
        "import matplotlib.pyplot as plt\n",
        "\n",
        "df = pd.read_csv('https://www.data.jma.go.jp/obd/stats/data/mdrr/tem_rct/alltable/mxtemsadext00_rct.csv',encoding='sjis')\n",
        "plt.scatter(df['観測所番号'], df['今日の最高気温(℃)'])"
      ],
      "execution_count": null,
      "outputs": []
    },
    {
      "cell_type": "markdown",
      "metadata": {
        "id": "5iqodVtFXJbP"
      },
      "source": [
        "このプログラムでは，気象庁が毎日更新してサイトに置いている各地の最高気温データを散布図としてプロットしています。データの処理およびデータの視覚化を行うためモジュールpandas，グラフを表示するためのモジュールmatplotlib.pyplotを使っています。importの中で**as**を使うことにより，左のモジュール名を書く代わりに，右の文字列で代替することができます。pandasのread_csvを使うことにより，指定したURLのCSVデータをリストdfに読み込みます。encoding='sjis'で，CSVファイルの漢字コードをSJISであると指定しています。これにより，読み込んだデータの項目名を使ってディクショナリでデータを参照できます。最後の行ではmatplotlib.pyplotのscatterを使い，x軸に読み込んだ項目の'観測所番号'，y軸に項目'今日の最高気温(℃)'とり，データをプロットしています。"
      ]
    },
    {
      "cell_type": "markdown",
      "metadata": {
        "id": "bO-vflDCq-Qr"
      },
      "source": [
        "例）気象庁のCSVデータを読み込んで最高気温をプロット（昨日までの観測史上1位の値で色を変える）"
      ]
    },
    {
      "cell_type": "code",
      "metadata": {
        "id": "mYALS0zRrGZQ"
      },
      "source": [
        "import pandas as pd\n",
        "import matplotlib.pyplot as plt\n",
        "\n",
        "df = pd.read_csv('https://www.data.jma.go.jp/obd/stats/data/mdrr/tem_rct/alltable/mxtemsadext00_rct.csv',encoding='sjis')\n",
        "plt.scatter(df['観測所番号'], df['今日の最高気温(℃)'], s=50, c=df['昨日までの観測史上1位の値（℃）'], cmap='Reds')\n",
        "plt.colorbar()"
      ],
      "execution_count": null,
      "outputs": []
    },
    {
      "cell_type": "markdown",
      "metadata": {
        "id": "_XPudlMFiIMe"
      },
      "source": [
        "scatterはデータをプロットするマーカーの色の濃淡で表すこともできます。引数の**s=**はマーカーの大きさを指定していて，**c=**で色の濃淡を決める項目'昨日までの観測史上1位の値（℃）'を指定しています。また，**cmap=**で濃淡を出すための連続的に色の濃さが変化するカラーマップ**'Reds'**を指定しています。カラーマップの色には，青ベースの**Blues**，緑ベースの**Greens**などを利用することができます。最後に，**colorbar()**によってグラフの右側に使っている色の濃淡がわかるカラーバーを表示しています。"
      ]
    },
    {
      "cell_type": "markdown",
      "metadata": {
        "id": "0-cfeta_tRcM"
      },
      "source": [
        "演習）上と同様のプロットを気象庁の最低気温のCSVデータ (https://www.data.jma.go.jp/obd/stats/data/mdrr/tem_rct/alltable/mntemsadext00_rct.csv) を読み込んでプロットしてみましょう。"
      ]
    },
    {
      "cell_type": "code",
      "metadata": {
        "id": "49x9bdBQtli_"
      },
      "source": [
        "import pandas as pd\n",
        "import matplotlib.pyplot as plt\n"
      ],
      "execution_count": null,
      "outputs": []
    },
    {
      "cell_type": "markdown",
      "metadata": {
        "id": "QIvIkuBtal9b"
      },
      "source": [
        "# 20 COVID-19 のオープンデータの可視化"
      ]
    },
    {
      "cell_type": "markdown",
      "metadata": {
        "id": "fjS5DiU8l9cg"
      },
      "source": [
        "まず、東京都が出している新型コロナウイルスのデータをダウンロードし，分析する．"
      ]
    },
    {
      "cell_type": "code",
      "metadata": {
        "id": "zV9FQTy5ajIE"
      },
      "source": [
        "!wget --no-check-certificate --output-document=covid19_tokyo.json 'https://raw.githubusercontent.com/tokyo-metropolitan-gov/covid19/development/data/data.json'"
      ],
      "execution_count": null,
      "outputs": []
    },
    {
      "cell_type": "markdown",
      "metadata": {
        "id": "nBsfZzLLeIwh"
      },
      "source": [
        "データを'covid19_tokyo.json'という名前のjsonファイルとしてダウンロードしている．"
      ]
    },
    {
      "cell_type": "code",
      "metadata": {
        "id": "AZG1y7lieck7"
      },
      "source": [
        "import pandas as pd\n",
        "data1 = pd.read_json('covid19_tokyo.json')"
      ],
      "execution_count": null,
      "outputs": []
    },
    {
      "cell_type": "markdown",
      "metadata": {
        "id": "5JDNVNVbecDK"
      },
      "source": [
        "pandasというライブラリをインポートする． pandasはデータ分析に便利なもので，簡単にデータの読み込みといった処理ができる． pd.read_jsonによってjsonファイルを読み込む．"
      ]
    },
    {
      "cell_type": "code",
      "metadata": {
        "id": "RFD741YkfGfo"
      },
      "source": [
        "data1.head(10)"
      ],
      "execution_count": null,
      "outputs": []
    },
    {
      "cell_type": "markdown",
      "metadata": {
        "id": "HbXeiuqbfJWz"
      },
      "source": [
        "data1.head(10)でdata1の最初10行を表示する． これでdata1がどのような形なのかを確認する． 今回は'inspection_persons'に検査実施回数，'patients_summary'に感染者数，'patients'に感染者の詳細が記録されていることがわかる．\n",
        "\n",
        "###**練習1**\n",
        "このデータを用いて，日毎の感染者数を棒グラフで表す．"
      ]
    },
    {
      "cell_type": "code",
      "metadata": {
        "id": "y79tsqrcfNCc"
      },
      "source": [
        "#以下を実行してdata['patients_summary']['data']の最初の行を確認してみよ\n",
        "data1['patients_summary']['data'][0]"
      ],
      "execution_count": null,
      "outputs": []
    },
    {
      "cell_type": "code",
      "metadata": {
        "id": "biV27gtFf07y"
      },
      "source": [
        "#何が表示されるか予想してから以下を実行せよ\n",
        "patients_data = []\n",
        "patients_date_data = []\n",
        "for i in range(len(data1['patients_summary']['data'])):\n",
        "    patients_data.append(data1['patients_summary']['data'][i]['小計'])\n",
        "    patients_date_data.append(data1['patients_summary']['data'][i]['日付'][5:10])\n",
        "print(patients_date_data[0], patients_data[0])"
      ],
      "execution_count": null,
      "outputs": []
    },
    {
      "cell_type": "code",
      "metadata": {
        "id": "WSG4vlIMf4Af"
      },
      "source": [
        "#日付が横軸，感染者数が縦軸となるように棒グラフを作成する\n",
        "\n",
        "#まず，matplotlibというライブラリをインポートする．これはグラフの描画をするためのものである．\n",
        "import matplotlib.pyplot as plt\n",
        "!pip install japanize-matplotlib\n",
        "import japanize_matplotlib\n",
        "\n",
        "# データを描画する\n",
        "plt.figure(figsize=(20,12))\n",
        "plt.bar(patients_date_data, patients_data)\n",
        "plt.xticks(rotation=90)\n",
        "plt.show()"
      ],
      "execution_count": null,
      "outputs": []
    },
    {
      "cell_type": "markdown",
      "metadata": {
        "id": "DwwXnUS2c2n9"
      },
      "source": [
        "# 21 地図とオープンデータの利用"
      ]
    },
    {
      "cell_type": "markdown",
      "metadata": {
        "id": "XS-ysmypc8pX"
      },
      "source": [
        "*   自治体等が公開しているオープンデータを利用して、地図の上にマークを行うことができる。ここでは、文京区が公開している、AEDのCSV形式データを利用する。\n",
        "*   今回は、以下のURLにでているCSVのアイコン（オレンジ色）から、データを入手することとして、CSVデータを直接入力できるURLを、プログラム中に記した。\n",
        "*   https://catalog.data.metro.tokyo.lg.jp/dataset/t131059d0000000002"
      ]
    },
    {
      "cell_type": "code",
      "metadata": {
        "id": "5k6dLK1iaOGx"
      },
      "source": [
        "import folium\n",
        "import pandas as pd\n",
        "\n",
        "# csvからのデータ読み込み(必要なカラムだけを抽出)\n",
        "df = pd.read_csv('https://www.city.bunkyo.lg.jp/library/opendata-bunkyo/05bousai-macidukuri-kankyou/11aedsettikasyoitiran/aedsettikasyoitiran.csv', usecols = ['名称','緯度','経度','設置台数'], encoding='sjis')\n",
        "\n",
        "# 欠損値削除\n",
        "df = df.dropna()\n",
        "\n",
        "# 地図生成（東京都文京区中心）\n",
        "folium_map = folium.Map(location=[35.72349, 139.749553], zoom_start=14)\n",
        "\n",
        "# マーカープロット\n",
        "for i, row in df.iterrows():\n",
        "\n",
        "    count = row['設置台数']\n",
        "    if count == 1:\n",
        "            folium.Marker(\n",
        "                location=[row['緯度'], row['経度']],\n",
        "                popup=row['名称'],\n",
        "                icon=folium.Icon(color='red')\n",
        "            ).add_to(folium_map)\n",
        "    else:\n",
        "        folium.Marker(\n",
        "            location=[row['緯度'], row['経度']],\n",
        "            popup=row['名称'],\n",
        "            icon=folium.Icon(color='blue')\n",
        "        ).add_to(folium_map)\n",
        "\n",
        "# 地図表示\n",
        "folium_map"
      ],
      "execution_count": null,
      "outputs": []
    },
    {
      "cell_type": "markdown",
      "metadata": {
        "id": "V_2REZRb1SBK"
      },
      "source": [
        "# 22 メルカトル図法地図を球体にする "
      ]
    },
    {
      "cell_type": "markdown",
      "metadata": {
        "id": "T9m6YLr91as6"
      },
      "source": [
        "*   NASAが配布している地球のメルカトル画像ファイルから、各点の色を取り出し、極座標変換を利用して立体的に見えるようにしたプログラム。\n",
        "  * https://visibleearth.nasa.gov/images/73909/december-blue-marble-next-generation-w-topography-and-bathymetry\n",
        "*  以下のサイトにあるものを Google Colaboratoryでも動くようにした。\n",
        "  * http://memomemokun.hateblo.jp/entry/2018/12/27/182932\n",
        "\n"
      ]
    },
    {
      "cell_type": "markdown",
      "metadata": {
        "id": "zxrzYkAM1_LZ"
      },
      "source": [
        "まずは、NASAからメルカトル図法の画像ファイルを入手する。"
      ]
    },
    {
      "cell_type": "code",
      "metadata": {
        "id": "gbVAyE7kk4Ns"
      },
      "source": [
        "!wget https://eoimages.gsfc.nasa.gov/images/imagerecords/73000/73909/world.topo.bathy.200412.3x5400x2700.jpg"
      ],
      "execution_count": null,
      "outputs": []
    },
    {
      "cell_type": "markdown",
      "metadata": {
        "id": "y2OekQrt2Eeg"
      },
      "source": [
        "そのファイルを利用して描画する。"
      ]
    },
    {
      "cell_type": "code",
      "metadata": {
        "id": "YS2E2qXglHA-"
      },
      "source": [
        "import matplotlib.pyplot as plt \n",
        "import numpy as np \n",
        "from mpl_toolkits.mplot3d import Axes3D \n",
        "\n",
        "def sphere_plot(image_file):\n",
        "    img = plt.imread(image_file)\n",
        "    \n",
        "    # 画像を少し間引く\n",
        "    img=img[::10,::10]\n",
        "    \n",
        "    # 球の球面座標　r:動径、θ:極角(天頂角)、φ：方位角(偏角)\n",
        "    R = 1\n",
        "    theta = np.linspace(0, np.pi, img.shape[0])\n",
        "    phi = np.linspace(0, 2*np.pi, img.shape[1])\n",
        "\n",
        "    # 球の球面座標 (r,θ,φ) を直交直線座標 (x,y,z) に変換\n",
        "    x = R * np.outer(np.cos(phi), np.sin(theta))\n",
        "    y = R * np.outer(np.sin(phi), np.sin(theta))\n",
        "    z = R * np.outer(np.ones(np.size(phi)), np.cos(theta))\n",
        "\n",
        "    # 球の表面をイメージファイルで塗りつぶして3Dで描画する\n",
        "    fig = plt.figure(figsize=(10, 10)) \n",
        "    ax = fig.add_subplot(111, projection='3d') \n",
        "    plt.subplots_adjust(left=0, right=1, bottom=0, top=1)\n",
        "    ax.plot_surface(x.T, y.T, z.T, rstride=1, cstride=1, facecolors = img/256.) \n",
        "\n",
        "    plt.savefig('1.jpg', dpi=72)\n",
        "    plt.show()\n",
        "\n",
        "if __name__ == \"__main__\":\n",
        "    # 5400x2700\n",
        "    image_file = 'world.topo.bathy.200412.3x5400x2700.jpg'\n",
        "    sphere_plot(image_file)"
      ],
      "execution_count": null,
      "outputs": []
    },
    {
      "cell_type": "markdown",
      "metadata": {
        "id": "rtIwBxrqqx2w"
      },
      "source": [
        "# 解答編"
      ]
    },
    {
      "cell_type": "code",
      "metadata": {
        "id": "MCdJx0wJq4vB"
      },
      "source": [
        "import matplotlib.pyplot as plt # グラフプロットの呼び出し\n",
        "r = int(input('radius? ')) # 円の半径、正方形の1辺の長さ\n",
        "sr = r*r # 2乗計算は1回で済ませておく\n",
        "incount = 0 # 円に入った点の数、初期値はゼロ\n",
        "\n",
        "plt.figure(figsize=(5,5)) # 描画領域を正方形に\n",
        "plt.xlim(-r, r) # x軸の範囲\n",
        "plt.ylim(-r, r) # y軸の範囲\n",
        "\n",
        "for u in range(-r, r):\n",
        "  x=u+0.5\n",
        "  sx = x*x # 2乗計算は1回で済ませておく\n",
        "  for v in range(-r, r): \n",
        "    y=v+0.5\n",
        "    if sx + y*y <= sr: # 半径r の円の中に入ったら\n",
        "      incount += 1 # 入ったカウンターに 1 を加える\n",
        "      plt.scatter(x, y, c=\"#000\") # 黒でプロット\n",
        "    else:\n",
        "      plt.scatter(x, y, c=\"#ddd\") # 灰色でプロット\n",
        "\n",
        "p = incount / sr # 求まった円周率の近似値の計算\n",
        "print(\" 円周率 :\", p ) # 近似値の表示\n",
        "plt.title(\"lattice method\") # グラフのタイトル\n",
        "plt.show() # グラフの描画"
      ],
      "execution_count": null,
      "outputs": []
    },
    {
      "cell_type": "code",
      "metadata": {
        "id": "eVSdPH0mls5K"
      },
      "source": [
        "# マージソート\n",
        "\n",
        "def msort(target):\n",
        "  print(\"in \", target)\n",
        "  l = len(target)\n",
        "  if l < 2:\n",
        "    print(\"out: \",target)\n",
        "    return target\n",
        "  else:\n",
        "    mae = []\n",
        "    ushiro = []\n",
        "    r = []\n",
        "\n",
        "    lmae = int( l / 2 )\n",
        "    for i in range( lmae ):\n",
        "      mae.append( target[ i ] )\n",
        "    mae = msort( mae )\n",
        "\n",
        "    for j in range( i+1, l ):\n",
        "      ushiro.append( target[ j ] )\n",
        "    ushiro = msort( ushiro )\n",
        "    lushiro = l - lmae\n",
        "\n",
        "    m = 0\n",
        "    u = 0\n",
        "    while m < lmae or u < lushiro :\n",
        "      if m == lmae:\n",
        "        r.append( ushiro[ u ] )\n",
        "        u += 1\n",
        "      elif u == lushiro:\n",
        "        r.append( mae[ m ] )\n",
        "        m += 1\n",
        "      else:\n",
        "        if mae[ m ] < ushiro[ u ]:\n",
        "          r.append(mae[ m ])\n",
        "          m += 1\n",
        "        else:\n",
        "          r.append(ushiro[ u ])\n",
        "          u += 1\n",
        "    print(\"out: \",r)\n",
        "    return r\n",
        "\n",
        "seq = [56,85,96,6,22,10,94,71,38,43,63]\n",
        "print(\"Before: \", seq)\n",
        "\n",
        "seq=msort(seq)\n",
        "print(\"After: \", seq)"
      ],
      "execution_count": null,
      "outputs": []
    }
  ]
}