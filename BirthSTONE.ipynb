{
  "nbformat": 4,
  "nbformat_minor": 0,
  "metadata": {
    "colab": {
      "name": "BirthSTONE.ipynb",
      "provenance": [],
      "collapsed_sections": [],
      "authorship_tag": "ABX9TyP0TjG4fm6jy0s9jc9dRFVF",
      "include_colab_link": true
    },
    "kernelspec": {
      "name": "python3",
      "display_name": "Python 3"
    },
    "language_info": {
      "name": "python"
    }
  },
  "cells": [
    {
      "cell_type": "markdown",
      "metadata": {
        "id": "view-in-github",
        "colab_type": "text"
      },
      "source": [
        "<a href=\"https://colab.research.google.com/github/ShuMay-Sky/PyTra/blob/main/BirthSTONE.ipynb\" target=\"_parent\"><img src=\"https://colab.research.google.com/assets/colab-badge.svg\" alt=\"Open In Colab\"/></a>"
      ]
    },
    {
      "cell_type": "code",
      "execution_count": null,
      "metadata": {
        "id": "5oTMeq6Tw6mD",
        "colab": {
          "base_uri": "https://localhost:8080/"
        },
        "outputId": "dac45434-726a-4e92-d7e6-5c4709bf6a74"
      },
      "outputs": [
        {
          "output_type": "stream",
          "name": "stdout",
          "text": [
            "名前を入力して下さい >> T\n",
            "生まれた月を入力して下さい（例：12） >> 5\n",
            "生まれた日を入力して下さい（例：1） >> 19\n",
            "Tさんの誕生石はエメラルド、ヒスイです\n",
            "https://www.amazon.co.jp/s?k=エメラルド、ヒスイ\n"
          ]
        }
      ],
      "source": [
        "# 誕生日から誕生石を表示して販売促進\n",
        "STONE = [\"ガーネット\", \n",
        "         \"アメシスト、クリソベリル・キャッツ・アイ\", \n",
        "         \"アクアマリン、サンゴ、ブラッドストーン、アイオライト\", \n",
        "         \"ダイヤモンド、モルガナイト\", \n",
        "         \"エメラルド、ヒスイ\", \n",
        "         \"真珠、ムーンストーン、アレキサンドライト\", \n",
        "         \"ルビー、スフェーン\", \n",
        "         \"ペリドット、サードオニックス、スピネル\", \n",
        "         \"サファイア、クンツァイト\", \n",
        "         \"オパール、トルマリン\",  \n",
        "         \"トパーズ、シトリン\", \n",
        "         \"トルコ石、ラピスラズリ、タンザナイト、ジルコン\"]\n",
        "\n",
        "#日付まで聞くのは雰囲気です\n",
        "name = input(\"名前を入力して下さい >> \")\n",
        "m = int(input(\"生まれた月を入力して下さい（例：12） >> \")) \n",
        "d = input(\"生まれた日を入力して下さい（例：1） >> \")\n",
        "print(f\"{name}さんの誕生石は{STONE[m-1]}です\")\n",
        "print(f\"https://www.amazon.co.jp/s?k={STONE[m-1]}\")"
      ]
    }
  ]
}